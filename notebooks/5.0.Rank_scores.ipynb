{
 "cells": [
  {
   "cell_type": "markdown",
   "metadata": {},
   "source": [
    "# Adding 2 Columns of rank score for esm1b and alphamissense to compare those models\n",
    " - To facilitate comparison between scores, we added rank scores for most functional prediction scores and conservation scores, and replacing the  \"converted\" scores in the previous versions.\n",
    "\n",
    " - AlphaMissense_rankscore: AlphaMissense scores were ranked among all AlphaMissense scores in dbNSFP. The rankscore is the ratio of the rank of the AlphaMissense_score over the total number of scores in dbNSFP.\n",
    " - ESM1b_rankscore: ESM1b scores were firstly negated (i.e., -ESM1b_score), then ranked among all -ESM1b_score scores\n",
    "in dbNSFP. The rankscore is the ratio of the rank of the -ESM1b_score over the total number of scores in dbNSFP.\n",
    " - use exact same datasets for both models to fairly rank - 20247 proteins"
   ]
  },
  {
   "cell_type": "code",
   "execution_count": 1,
   "metadata": {},
   "outputs": [],
   "source": [
    "# --- Project Setup ---\n",
    "from setup_notebook import setup_project_root\n",
    "setup_project_root()\n",
    "\n",
    "from src.project_config import get_paths\n",
    "from src.rank_processing.exclude_isoforms import exclude_isoforms\n",
    "from src.rank_processing.list_files import list_csv_files\n",
    "import os\n",
    "import pandas as pd\n",
    "from scipy.stats import rankdata\n",
    "from glob import glob\n",
    "from src.rank_processing.rank_data import rank_data"
   ]
  },
  {
   "cell_type": "code",
   "execution_count": 2,
   "metadata": {},
   "outputs": [],
   "source": [
    "paths = get_paths()\n",
    "data_AM_raw = paths[\"data\"] / \"raw\" / \"AlphaMissense_csv\"\n",
    "data_ESM_raw = paths[\"data\"] / \"raw\" / \"ALL_hum_isoforms_ESM1b_LLR\"\n",
    "\n",
    "data_AM_rank = paths[\"processed\"] / \"AlphaMissense_rank_csv\"\n",
    "data_ESM_rank = paths[\"processed\"] / \"ESM1b_rank_csv\"\n",
    "data_ESM_no_isoform = paths[\"processed\"] / \"ESM1b_no_isoforms\"\n",
    "protein_ID_folder = paths[\"processed\"] / \"Protein_IDs_Per_Experiment\"\n",
    "\n",
    "# Create output directories\n",
    "os.makedirs(data_AM_rank, exist_ok=True)\n",
    "os.makedirs(data_ESM_rank, exist_ok=True)\n",
    "os.makedirs(data_ESM_no_isoform, exist_ok=True)\n",
    "os.makedirs(protein_ID_folder, exist_ok=True)"
   ]
  },
  {
   "cell_type": "markdown",
   "metadata": {},
   "source": [
    "### 1. Find Overlap between two ESM1b and AlphaMissense Datasets for fair ranking"
   ]
  },
  {
   "cell_type": "code",
   "execution_count": 5,
   "metadata": {},
   "outputs": [
    {
     "name": "stderr",
     "output_type": "stream",
     "text": [
      "Copying non-isoform CSVs: 100%|██████████| 20335/20335 [00:12<00:00, 1667.46it/s]"
     ]
    },
    {
     "name": "stdout",
     "output_type": "stream",
     "text": [
      "✅ Done: copied 20335 files to 'data/processed/ESM1b_no_isoforms'.\n"
     ]
    },
    {
     "name": "stderr",
     "output_type": "stream",
     "text": [
      "\n"
     ]
    }
   ],
   "source": [
    "# Exclude every CSV file that is isoform and copy non-isoform files to a new folder\n",
    "exclude_isoforms(data_ESM_raw, data_ESM_no_isoform)"
   ]
  },
  {
   "cell_type": "code",
   "execution_count": null,
   "metadata": {},
   "outputs": [],
   "source": [
    "# List all CSV files in the raw data directories and save them for later\n",
    "list_csv_files(data_ESM_no_isoform, \"_LLR.csv\", protein_ID_folder / \"ESM1b_no_isoforms.csv\", \"ESM_no_isoform\")\n",
    "list_csv_files(data_AM_raw, \".csv\", protein_ID_folder / \"AlphaMissense_csv.csv\", \"AlphaMissense_csv\")"
   ]
  },
  {
   "cell_type": "code",
   "execution_count": 4,
   "metadata": {},
   "outputs": [],
   "source": [
    "# Find overlap between AlphaMissense and ESM1b datasets using listed csv files from above\n",
    "AM_csv = pd.read_csv(protein_ID_folder / \"AlphaMissense_csv.csv\")\n",
    "ESM_csv = pd.read_csv(protein_ID_folder / \"ESM1b_no_isoforms.csv\")\n",
    "\n",
    "# Find intersection and save as CSV\n",
    "pd.DataFrame(\n",
    "    set(AM_csv['AlphaMissense_csv']).intersection(ESM_csv['ESM_no_isoform']),columns=[\"Protein_ID\"]\n",
    ").to_csv(protein_ID_folder / \"intersection_protein_ids_to_be_ranked.csv\", index=False)"
   ]
  },
  {
   "cell_type": "markdown",
   "metadata": {},
   "source": [
    "### 2. Rank All Proteins from both Models from their Protein IDs intersection"
   ]
  },
  {
   "cell_type": "code",
   "execution_count": 7,
   "metadata": {},
   "outputs": [],
   "source": [
    "protein_id_csv_pathway = protein_ID_folder / \"intersection_protein_ids_to_be_ranked.csv\""
   ]
  },
  {
   "cell_type": "code",
   "execution_count": 37,
   "metadata": {},
   "outputs": [
    {
     "name": "stdout",
     "output_type": "stream",
     "text": [
      "Collecting AM scores...\n"
     ]
    },
    {
     "name": "stderr",
     "output_type": "stream",
     "text": [
      "Reading scores: 100%|██████████| 20246/20246 [00:51<00:00, 392.08it/s]\n"
     ]
    },
    {
     "name": "stdout",
     "output_type": "stream",
     "text": [
      "Computing global ranks...\n",
      "Processing per-file and writing outputs...\n"
     ]
    },
    {
     "name": "stderr",
     "output_type": "stream",
     "text": [
      "Processing files: 100%|██████████| 20246/20246 [04:41<00:00, 71.99it/s] "
     ]
    },
    {
     "name": "stdout",
     "output_type": "stream",
     "text": [
      "AlphaMissense Scores were successfully ranked.\n"
     ]
    },
    {
     "name": "stderr",
     "output_type": "stream",
     "text": [
      "\n"
     ]
    }
   ],
   "source": [
    "rank_data(input_dir=data_AM_raw, output_dir=data_AM_rank, model=\"AlphaMissense\", intersection_csv_path=protein_id_csv_pathway)"
   ]
  },
  {
   "cell_type": "code",
   "execution_count": 8,
   "metadata": {},
   "outputs": [
    {
     "name": "stdout",
     "output_type": "stream",
     "text": [
      "Collecting LLR scores...\n"
     ]
    },
    {
     "name": "stderr",
     "output_type": "stream",
     "text": [
      "Reading LLR scores: 100%|██████████| 20246/20246 [03:11<00:00, 105.97it/s]\n"
     ]
    },
    {
     "name": "stdout",
     "output_type": "stream",
     "text": [
      "Computing global ranks...\n",
      "Writing ranked matrices...\n"
     ]
    },
    {
     "name": "stderr",
     "output_type": "stream",
     "text": [
      "100%|██████████| 20246/20246 [02:46<00:00, 121.76it/s]"
     ]
    },
    {
     "name": "stdout",
     "output_type": "stream",
     "text": [
      "ESM1b Scores were successfully ranked.\n"
     ]
    },
    {
     "name": "stderr",
     "output_type": "stream",
     "text": [
      "\n"
     ]
    }
   ],
   "source": [
    "rank_data(input_dir=data_ESM_no_isoform, output_dir=data_ESM_rank, model=\"ESM\", intersection_csv_path=protein_id_csv_pathway)"
   ]
  }
 ],
 "metadata": {
  "kernelspec": {
   "display_name": ".venv",
   "language": "python",
   "name": "python3"
  },
  "language_info": {
   "codemirror_mode": {
    "name": "ipython",
    "version": 3
   },
   "file_extension": ".py",
   "mimetype": "text/x-python",
   "name": "python",
   "nbconvert_exporter": "python",
   "pygments_lexer": "ipython3",
   "version": "3.12.7"
  }
 },
 "nbformat": 4,
 "nbformat_minor": 2
}
