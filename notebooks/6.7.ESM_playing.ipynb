{
 "cells": [
  {
   "cell_type": "code",
   "execution_count": 1,
   "metadata": {},
   "outputs": [
    {
     "name": "stdout",
     "output_type": "stream",
     "text": [
      "Collecting fair-esm\n",
      "  Using cached fair_esm-2.0.0-py3-none-any.whl.metadata (37 kB)\n",
      "Using cached fair_esm-2.0.0-py3-none-any.whl (93 kB)\n",
      "Installing collected packages: fair-esm\n",
      "Successfully installed fair-esm-2.0.0\n",
      "\n",
      "\u001b[1m[\u001b[0m\u001b[34;49mnotice\u001b[0m\u001b[1;39;49m]\u001b[0m\u001b[39;49m A new release of pip is available: \u001b[0m\u001b[31;49m25.1.1\u001b[0m\u001b[39;49m -> \u001b[0m\u001b[32;49m25.2\u001b[0m\n",
      "\u001b[1m[\u001b[0m\u001b[34;49mnotice\u001b[0m\u001b[1;39;49m]\u001b[0m\u001b[39;49m To update, run: \u001b[0m\u001b[32;49mpip install --upgrade pip\u001b[0m\n"
     ]
    }
   ],
   "source": [
    "!pip install fair-esm\n"
   ]
  },
  {
   "cell_type": "code",
   "execution_count": 2,
   "metadata": {},
   "outputs": [
    {
     "name": "stdout",
     "output_type": "stream",
     "text": [
      "Downloading: \"https://dl.fbaipublicfiles.com/fair-esm/models/esm1b_t33_650M_UR50S.pt\" to /Users/doma/.cache/torch/hub/checkpoints/esm1b_t33_650M_UR50S.pt\n",
      "Downloading: \"https://dl.fbaipublicfiles.com/fair-esm/regression/esm1b_t33_650M_UR50S-contact-regression.pt\" to /Users/doma/.cache/torch/hub/checkpoints/esm1b_t33_650M_UR50S-contact-regression.pt\n",
      "LLR for mutation at position 11: 2.0006\n"
     ]
    }
   ],
   "source": [
    "import torch\n",
    "import esm\n",
    "\n",
    "# Load the pretrained model\n",
    "model, alphabet = esm.pretrained.esm1b_t33_650M_UR50S()\n",
    "model.eval()  # Set to inference mode\n",
    "\n",
    "batch_converter = alphabet.get_batch_converter()\n",
    "\n",
    "# Example protein sequence (FASTA format: list of tuples)\n",
    "data = [(\"protein1\", \"MKTLLILAVAFASAGGQWQLT\")]\n",
    "\n",
    "# Convert to batch tensors\n",
    "batch_labels, batch_strs, batch_tokens = batch_converter(data)\n",
    "\n",
    "# Forward pass to get logits (amino acid scores per position)\n",
    "with torch.no_grad():\n",
    "    results = model(batch_tokens, repr_layers=[33], return_contacts=False)\n",
    "\n",
    "# Extract log probabilities\n",
    "log_probs = torch.nn.functional.log_softmax(results[\"logits\"], dim=-1)\n",
    "\n",
    "# Example: Mutation at position 10 (0-based: token 11 due to BOS token)\n",
    "pos = 10\n",
    "wt_aa = batch_tokens[0, pos + 1]\n",
    "mut_aa = alphabet.get_idx(\"A\")  # Substitute with alanine\n",
    "\n",
    "# Log-likelihood ratio (LLR) score\n",
    "llr = log_probs[0, pos + 1, wt_aa] - log_probs[0, pos + 1, mut_aa]\n",
    "print(f\"LLR for mutation at position {pos+1}: {llr.item():.4f}\")\n"
   ]
  }
 ],
 "metadata": {
  "kernelspec": {
   "display_name": ".venv",
   "language": "python",
   "name": "python3"
  },
  "language_info": {
   "codemirror_mode": {
    "name": "ipython",
    "version": 3
   },
   "file_extension": ".py",
   "mimetype": "text/x-python",
   "name": "python",
   "nbconvert_exporter": "python",
   "pygments_lexer": "ipython3",
   "version": "3.12.7"
  }
 },
 "nbformat": 4,
 "nbformat_minor": 2
}
