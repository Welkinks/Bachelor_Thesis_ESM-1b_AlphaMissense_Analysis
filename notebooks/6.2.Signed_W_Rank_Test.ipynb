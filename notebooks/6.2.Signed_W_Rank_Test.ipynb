{
 "cells": [
  {
   "cell_type": "code",
   "execution_count": 48,
   "metadata": {},
   "outputs": [],
   "source": [
    "# --- Project Setup ---\n",
    "from setup_notebook import setup_project_root\n",
    "setup_project_root()\n",
    "\n",
    "# --- Imports ---\n",
    "from src.project_config import AM_PATH, ESM_PATH, PROTEIN_IDS_CSV, get_paths_protein\n",
    "from scipy import stats\n",
    "import matplotlib.pyplot as plt\n",
    "import tqdm\n",
    "import pandas as pd\n",
    "import random\n",
    "import os\n",
    "import numpy as np\n",
    "from tqdm.notebook import tqdm\n",
    "from statsmodels.stats.multitest import fdrcorrection"
   ]
  },
  {
   "cell_type": "markdown",
   "metadata": {},
   "source": [
    "### Goal of This Code\n",
    "- to run Signed Wilcoxon Rank Test (non-parametric) between variants of the two models per \n",
    "residue to find minimal significant threshold for an algorithm, that identifies\n",
    "clusters in difference rank scores\n",
    "  \n",
    "What we need:\n",
    "- rank score CSV files of ESM1b and AlphaMissense\n",
    "- random sample of how many proteins we take into this test\n",
    "\n",
    "From 20300 proteins x 472 Residues (average per protein) \n",
    "- it will be far enough to take sample of 1000 proteins and 200 residues = 200.000\n",
    "- statistically needed only about 10.000 residues\n",
    "- since proteins have different lengths we will always only take certain percentage of residues per protein and compute it by using the total of 200.000 residues to be analyzed\n",
    "- "
   ]
  },
  {
   "cell_type": "code",
   "execution_count": 58,
   "metadata": {},
   "outputs": [
    {
     "data": {
      "text/plain": [
       "WilcoxonResult(statistic=np.float64(36.0), pvalue=np.float64(0.015972137451171875))"
      ]
     },
     "execution_count": 58,
     "metadata": {},
     "output_type": "execute_result"
    }
   ],
   "source": [
    "# --- Load Data ---\n",
    "paths = get_paths_protein(\"P05067\")\n",
    "am = pd.read_csv(paths[\"am_path\"], index_col=0)\n",
    "esm = pd.read_csv(paths[\"esm_path\"], index_col=0)\n",
    "\n",
    "\n",
    "# Access the first column of the dataframes and remove NaN values\n",
    "alpha_values = am.iloc[:, 3].dropna()\n",
    "esm_values = esm.iloc[:, 3].dropna()\n",
    "\n",
    "#print(\"Alpha Values:\", alpha_values)\n",
    "#print(\"ESM Values:\", esm_values)\n",
    "\n",
    "stats.wilcoxon(alpha_values, esm_values)\n"
   ]
  },
  {
   "cell_type": "code",
   "execution_count": 5,
   "metadata": {},
   "outputs": [
    {
     "data": {
      "application/vnd.jupyter.widget-view+json": {
       "model_id": "bc4257d2cdc94b0dbcede787d347c60b",
       "version_major": 2,
       "version_minor": 0
      },
      "text/plain": [
       "Processing Proteins:   0%|          | 0/1000 [00:00<?, ?it/s]"
      ]
     },
     "metadata": {},
     "output_type": "display_data"
    },
    {
     "name": "stdout",
     "output_type": "stream",
     "text": [
      "Skipping 3648 due to different number of residues in AM and ESM data.\n",
      "Skipping 4572 due to different number of residues in AM and ESM data.\n",
      "Skipping 19349 due to different number of residues in AM and ESM data.\n",
      "Skipping 7164 due to different number of residues in AM and ESM data.\n",
      "Error processing residue 407 for protein Q12840: Array shapes are incompatible for broadcasting.\n",
      "Skipping 18585 due to different number of residues in AM and ESM data.\n",
      "Skipping 8609 due to different number of residues in AM and ESM data.\n",
      "Skipping 2978 due to different number of residues in AM and ESM data.\n",
      "Skipping 8630 due to different number of residues in AM and ESM data.\n",
      "Skipping 16403 due to different number of residues in AM and ESM data.\n",
      "Error processing residue 1269 for protein Q02952: Array shapes are incompatible for broadcasting.\n",
      "Skipping 2806 due to different number of residues in AM and ESM data.\n",
      "Skipping 19277 due to different number of residues in AM and ESM data.\n",
      "Skipping 15906 due to different number of residues in AM and ESM data.\n",
      "Error processing residue 302 for protein Q9C000: Array shapes are incompatible for broadcasting.\n",
      "Skipping 14700 due to different number of residues in AM and ESM data.\n",
      "Skipping 1444 due to different number of residues in AM and ESM data.\n",
      "Skipping 2465 due to different number of residues in AM and ESM data.\n",
      "Skipping 4884 due to different number of residues in AM and ESM data.\n",
      "Skipping 4176 due to different number of residues in AM and ESM data.\n",
      "Skipping 15083 due to different number of residues in AM and ESM data.\n",
      "Error processing residue 273 for protein Q86UE6: Array shapes are incompatible for broadcasting.\n",
      "Skipping 18314 due to different number of residues in AM and ESM data.\n",
      "Skipping 9362 due to different number of residues in AM and ESM data.\n",
      "Skipping 12464 due to different number of residues in AM and ESM data.\n",
      "Skipping 13730 due to different number of residues in AM and ESM data.\n",
      "Skipping 14044 due to different number of residues in AM and ESM data.\n",
      "Skipping 6498 due to different number of residues in AM and ESM data.\n",
      "Skipping 11377 due to different number of residues in AM and ESM data.\n",
      "Skipping 19999 due to different number of residues in AM and ESM data.\n",
      "Skipping 8237 due to different number of residues in AM and ESM data.\n",
      "Skipping 9060 due to different number of residues in AM and ESM data.\n",
      "Skipping 9956 due to different number of residues in AM and ESM data.\n",
      "Error processing residue 238 for protein Q8N0Z9: Array shapes are incompatible for broadcasting.\n",
      "Skipping 7585 due to different number of residues in AM and ESM data.\n",
      "Skipping 10878 due to different number of residues in AM and ESM data.\n",
      "Total residues processed: 198236\n",
      "Total tuples: 198236\n"
     ]
    }
   ],
   "source": [
    "average_protein_length = 555\n",
    "count_residues = 0 \n",
    "\n",
    "ids = pd.read_csv(PROTEIN_IDS_CSV, header=0)\n",
    "random.seed(42)\n",
    "random_proteins = random.sample(range(len(ids)), 1000)\n",
    "\n",
    "\n",
    "\n",
    "\n",
    "# Initialize array of tuples for storing rank test results and mean differences\n",
    "rank_test_results = []\n",
    "\n",
    "for protein in tqdm(random_proteins, desc=\"Processing Proteins\"):\n",
    "\n",
    "    # Get paths for the current protein\n",
    "    am = get_paths_protein(ids.iloc[protein, 0])[\"am_path\"]\n",
    "    esm = get_paths_protein(ids.iloc[protein, 0])[\"esm_path\"]\n",
    "\n",
    "    # Load the data\n",
    "    am_data = pd.read_csv(am, index_col=0)\n",
    "    esm_data = pd.read_csv(esm, index_col=0)\n",
    "\n",
    "    # Check if both proteins have same length\n",
    "    if am_data.shape[1] != esm_data.shape[1]:\n",
    "        print(f\"Skipping {protein} due to different number of residues in AM and ESM data.\")\n",
    "        continue  # Skip the current protein and move to the next one in the outer loop\n",
    "\n",
    "    # Loop over random residue positions in that protein (columns)\n",
    "    percentage = am_data.shape[1] / average_protein_length\n",
    "    random_residues = random.sample(range(am_data.shape[1]), round(200*percentage))\n",
    "\n",
    "    for residue in random_residues:\n",
    "        try:\n",
    "            # Get the values for the current residue\n",
    "            am_value = am_data.iloc[:, residue].dropna()\n",
    "            esm_value = esm_data.iloc[:, residue].dropna()\n",
    "\n",
    "            # compute p-value and mean difference\n",
    "            statistics, pvalue = stats.wilcoxon(am_value, esm_value)\n",
    "            mean_difference = esm_value.mean() - am_value.mean()\n",
    "\n",
    "            # Append the results to the list as tuple\n",
    "            rank_test_results.append((pvalue, mean_difference))\n",
    "            count_residues += 1\n",
    "        except Exception as e:\n",
    "            print(f\"Error processing residue {residue} for protein {ids.iloc[protein, 0]}: {e}\")\n",
    "            continue\n",
    "\n",
    "clear_output(wait=True)\n",
    "print(f\"Total residues processed: {count_residues}\")\n",
    "print(f\"Total tuples: {len(rank_test_results)}\")"
   ]
  },
  {
   "cell_type": "code",
   "execution_count": 45,
   "metadata": {},
   "outputs": [
    {
     "name": "stdout",
     "output_type": "stream",
     "text": [
      "(np.float64(0.8525328304461361), np.float64(-0.0016500000000000403))\n",
      "(np.float64(0.8287849426269531), np.float64(-0.0016500000000000403))\n"
     ]
    }
   ],
   "source": [
    "corrected_pvalues = fdrcorrection([x[0] for x in rank_test_results])[1]\n",
    "\n",
    "\n",
    "\n",
    "# Combine corrected p-values with the second value from rank_test_results\n",
    "corrected_pvalues = [\n",
    "    (corrected_pvalue, rank_test_results[i][1]) \n",
    "    for i, corrected_pvalue in enumerate(corrected_pvalues)\n",
    "]\n",
    "\n",
    "# Example: Accessing the updated corrected_pvalues\n",
    "\n",
    "\n",
    "print(corrected_pvalues[1])\n",
    "print(rank_test_results[1])\n"
   ]
  },
  {
   "cell_type": "code",
   "execution_count": 46,
   "metadata": {},
   "outputs": [
    {
     "name": "stdout",
     "output_type": "stream",
     "text": [
      "0.000209808349609375\n"
     ]
    },
    {
     "data": {
      "application/vnd.jupyter.widget-view+json": {
       "model_id": "a3f24013fc3d4872b96dfe31a25ab973",
       "version_major": 2,
       "version_minor": 0
      },
      "text/plain": [
       "Filtering Significant Results:   0%|          | 0/198236 [00:00<?, ?it/s]"
      ]
     },
     "metadata": {},
     "output_type": "display_data"
    }
   ],
   "source": [
    "# 198236 wilcoxon test results\n",
    "print(rank_test_results[2][0])\n",
    "significant_results = []\n",
    "non_significant_results = []\n",
    "signif_results_corrected = []\n",
    "non_signif_results_corrected = []\n",
    "\n",
    "for i in tqdm(range(len(rank_test_results)), desc=\"Filtering Significant Results\"):\n",
    "    if rank_test_results[i][0] < 0.05:\n",
    "        significant_results.append(rank_test_results[i][1])\n",
    "    else:\n",
    "        non_significant_results.append(rank_test_results[i][1])\n",
    "\n",
    "    if corrected_pvalues[i][0] < 0.05:\n",
    "        signif_results_corrected.append(corrected_pvalues[i][1])\n",
    "    else:\n",
    "        non_signif_results_corrected.append(corrected_pvalues[i][1])\n"
   ]
  },
  {
   "cell_type": "code",
   "execution_count": 8,
   "metadata": {},
   "outputs": [
    {
     "name": "stdout",
     "output_type": "stream",
     "text": [
      "-0.1392457894736845\n"
     ]
    }
   ],
   "source": [
    "print(significant_results[1])  # Print first 10 significant results"
   ]
  },
  {
   "cell_type": "code",
   "execution_count": 15,
   "metadata": {},
   "outputs": [
    {
     "name": "stdout",
     "output_type": "stream",
     "text": [
      "Significant results: 146644\n",
      "Non-significant results: 51592\n"
     ]
    },
    {
     "data": {
      "text/plain": [
       "(array([1.888e+03, 1.929e+03, 1.926e+03, 1.903e+03, 1.919e+03, 1.891e+03,\n",
       "        1.829e+03, 1.923e+03, 1.862e+03, 1.954e+03, 1.773e+03, 1.804e+03,\n",
       "        1.757e+03, 1.782e+03, 1.665e+03, 1.653e+03, 1.602e+03, 1.529e+03,\n",
       "        1.503e+03, 1.354e+03, 1.312e+03, 1.278e+03, 1.200e+03, 1.124e+03,\n",
       "        1.035e+03, 9.900e+02, 8.930e+02, 8.540e+02, 7.560e+02, 7.130e+02,\n",
       "        6.440e+02, 5.660e+02, 5.650e+02, 4.920e+02, 4.420e+02, 3.710e+02,\n",
       "        3.650e+02, 2.890e+02, 2.700e+02, 2.440e+02, 2.010e+02, 1.900e+02,\n",
       "        1.780e+02, 1.200e+02, 1.260e+02, 9.900e+01, 9.700e+01, 8.700e+01,\n",
       "        9.300e+01, 5.300e+01, 6.600e+01, 4.900e+01, 5.100e+01, 3.800e+01,\n",
       "        2.600e+01, 3.200e+01, 2.700e+01, 2.600e+01, 2.200e+01, 1.800e+01,\n",
       "        1.600e+01, 2.000e+01, 9.000e+00, 1.400e+01, 1.500e+01, 1.000e+01,\n",
       "        2.000e+00, 7.000e+00, 5.000e+00, 7.000e+00, 6.000e+00, 1.000e+00,\n",
       "        1.000e+01, 2.000e+00, 4.000e+00, 2.000e+00, 1.000e+00, 0.000e+00,\n",
       "        1.000e+00, 0.000e+00, 3.000e+00, 1.000e+00, 0.000e+00, 0.000e+00,\n",
       "        1.000e+00, 0.000e+00, 0.000e+00, 1.000e+00, 1.000e+00, 0.000e+00,\n",
       "        0.000e+00, 1.000e+00, 1.000e+00, 1.000e+00, 0.000e+00, 1.000e+00,\n",
       "        0.000e+00, 0.000e+00, 0.000e+00, 1.000e+00]),\n",
       " array([0.        , 0.00184651, 0.00369301, 0.00553952, 0.00738602,\n",
       "        0.00923253, 0.01107903, 0.01292554, 0.01477204, 0.01661855,\n",
       "        0.01846505, 0.02031156, 0.02215806, 0.02400457, 0.02585107,\n",
       "        0.02769758, 0.02954408, 0.03139059, 0.03323709, 0.0350836 ,\n",
       "        0.03693011, 0.03877661, 0.04062312, 0.04246962, 0.04431613,\n",
       "        0.04616263, 0.04800914, 0.04985564, 0.05170215, 0.05354865,\n",
       "        0.05539516, 0.05724166, 0.05908817, 0.06093467, 0.06278118,\n",
       "        0.06462768, 0.06647419, 0.06832069, 0.0701672 , 0.07201371,\n",
       "        0.07386021, 0.07570672, 0.07755322, 0.07939973, 0.08124623,\n",
       "        0.08309274, 0.08493924, 0.08678575, 0.08863225, 0.09047876,\n",
       "        0.09232526, 0.09417177, 0.09601827, 0.09786478, 0.09971128,\n",
       "        0.10155779, 0.10340429, 0.1052508 , 0.10709731, 0.10894381,\n",
       "        0.11079032, 0.11263682, 0.11448333, 0.11632983, 0.11817634,\n",
       "        0.12002284, 0.12186935, 0.12371585, 0.12556236, 0.12740886,\n",
       "        0.12925537, 0.13110187, 0.13294838, 0.13479488, 0.13664139,\n",
       "        0.13848789, 0.1403344 , 0.14218091, 0.14402741, 0.14587392,\n",
       "        0.14772042, 0.14956693, 0.15141343, 0.15325994, 0.15510644,\n",
       "        0.15695295, 0.15879945, 0.16064596, 0.16249246, 0.16433897,\n",
       "        0.16618547, 0.16803198, 0.16987848, 0.17172499, 0.17357149,\n",
       "        0.175418  , 0.17726451, 0.17911101, 0.18095752, 0.18280402,\n",
       "        0.18465053]),\n",
       " <BarContainer object of 100 artists>)"
      ]
     },
     "execution_count": 15,
     "metadata": {},
     "output_type": "execute_result"
    },
    {
     "data": {
      "image/png": "[encoded data removed]",
      "text/plain": [
       "<Figure size 640x480 with 1 Axes>"
      ]
     },
     "metadata": {},
     "output_type": "display_data"
    }
   ],
   "source": [
    "significant_results = [abs(result) for result in significant_results]\n",
    "non_significant_results = [abs(result) for result in non_significant_results]\n",
    "print(f\"Significant results: {len(significant_results)}\")\n",
    "print(f\"Non-significant results: {len(non_significant_results)}\")\n",
    "plt.hist(significant_results, bins=100, alpha=0.5, color='red', label='Significant Results')\n",
    "plt.hist(non_significant_results, bins=100, alpha=0.5, color='blue')"
   ]
  },
  {
   "cell_type": "code",
   "execution_count": 61,
   "metadata": {},
   "outputs": [
    {
     "name": "stdout",
     "output_type": "stream",
     "text": [
      "Significant results: 141781\n",
      "Non-significant results: 56455\n"
     ]
    },
    {
     "data": {
      "text/plain": [
       "<matplotlib.lines.Line2D at 0x13da55700>"
      ]
     },
     "execution_count": 61,
     "metadata": {},
     "output_type": "execute_result"
    },
    {
     "data": {
      "image/png": "[encoded data removed]",
      "text/plain": [
       "<Figure size 640x480 with 1 Axes>"
      ]
     },
     "metadata": {},
     "output_type": "display_data"
    }
   ],
   "source": [
    "significant_results_corr = [abs(result) for result in signif_results_corrected]\n",
    "non_significant_results = [abs(result) for result in non_signif_results_corrected]\n",
    "print(f\"Significant results: {len(significant_results_corr)}\")\n",
    "print(f\"Non-significant results: {len(non_significant_results)}\")\n",
    "plt.hist(significant_results_corr, bins=100, alpha=0.5, color='red', label='Significant Results')\n",
    "plt.hist(non_significant_results, bins=35, alpha=0.5, color='blue')\n",
    "plt.axvline(x=0.0740, color='red', linestyle='--')"
   ]
  },
  {
   "cell_type": "code",
   "execution_count": 72,
   "metadata": {},
   "outputs": [
    {
     "name": "stdout",
     "output_type": "stream",
     "text": [
      "Noise threshold and threshold to be used in the algorithm: 0.07407852631578948\n",
      "Other threshold: 0.07516610526315792\n"
     ]
    }
   ],
   "source": [
    "noise_threshold = np.percentile(non_significant_results, 95)\n",
    "print(f\"Noise threshold and threshold to be used in the algorithm: {noise_threshold}\")\n",
    "\n",
    "other_threshold = np.percentile(significant_results_corr, 14)\n",
    "print(f\"Other threshold: {other_threshold}\")"
   ]
  },
  {
   "cell_type": "code",
   "execution_count": 71,
   "metadata": {},
   "outputs": [
    {
     "name": "stdout",
     "output_type": "stream",
     "text": [
      "Total above threshold: 122691 (86.54%)\n"
     ]
    }
   ],
   "source": [
    "# Count all residues with mean > threshold\n",
    "num_above_threshold = sum(mean > noise_threshold for mean in significant_results_corr)\n",
    "total = len(significant_results_corr)\n",
    "\n",
    "percentage_above = num_above_threshold / total * 100\n",
    "\n",
    "print(f\"Total above threshold: {num_above_threshold} ({percentage_above:.2f}%)\")"
   ]
  }
 ],
 "metadata": {
  "kernelspec": {
   "display_name": ".venv",
   "language": "python",
   "name": "python3"
  },
  "language_info": {
   "codemirror_mode": {
    "name": "ipython",
    "version": 3
   },
   "file_extension": ".py",
   "mimetype": "text/x-python",
   "name": "python",
   "nbconvert_exporter": "python",
   "pygments_lexer": "ipython3",
   "version": "3.12.7"
  }
 },
 "nbformat": 4,
 "nbformat_minor": 2
}
