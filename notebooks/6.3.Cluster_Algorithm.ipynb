{
 "cells": [
  {
   "cell_type": "code",
   "execution_count": 2,
   "metadata": {},
   "outputs": [],
   "source": [
    "# --- Project Setup ---\n",
    "from setup_notebook import setup_project_root\n",
    "setup_project_root()\n",
    "\n",
    "# --- Imports ---\n",
    "from src.project_config import AM_PATH, ESM_PATH, PROTEIN_IDS_CSV, get_paths_protein\n",
    "import pandas as pd\n"
   ]
  },
  {
   "cell_type": "markdown",
   "metadata": {},
   "source": [
    "## Clustering Algorithm for identifying clusters of high difference between the two models AlphaMissense and ESM1b"
   ]
  },
  {
   "cell_type": "code",
   "execution_count": 6,
   "metadata": {},
   "outputs": [
    {
     "name": "stdout",
     "output_type": "stream",
     "text": [
      "M 1      0.291113\n",
      "L 2      0.215340\n",
      "P 3      0.157512\n",
      "G 4      0.105954\n",
      "L 5      0.182534\n",
      "           ...   \n",
      "E 766    0.000096\n",
      "Q 767    0.168294\n",
      "M 768    0.098841\n",
      "Q 769    0.269723\n",
      "N 770    0.177455\n",
      "Length: 770, dtype: float64\n",
      "M 1      0.291141\n",
      "L 2      0.214885\n",
      "P 3      0.157159\n",
      "G 4      0.105609\n",
      "L 5      0.182185\n",
      "           ...   \n",
      "E 766    0.000301\n",
      "Q 767    0.168859\n",
      "M 768    0.099376\n",
      "Q 769    0.270177\n",
      "N 770    0.178020\n",
      "Length: 770, dtype: float64\n"
     ]
    }
   ],
   "source": [
    "paths = get_paths_protein(\"P05067\")\n",
    "\n",
    "#diff_matrix = pd.read_csv(paths[\"difference_path\"], index_col=0)\n",
    "\n",
    "diff_matrix_new = pd.read_csv(paths[\"difference_path\"], index_col=0)\n",
    "\n",
    "avg_diff_per_position = diff_matrix.mean(axis=0)  # shape: (N,)\n",
    "avg_diff_per_position_new = diff_matrix_new.mean(axis=0)  # shape: (N,) \n",
    "print(avg_diff_per_position)\n",
    "print(avg_diff_per_position_new)\n",
    "\n"
   ]
  },
  {
   "cell_type": "code",
   "execution_count": 5,
   "metadata": {},
   "outputs": [
    {
     "data": {
      "text/plain": [
       "M 1      0.291141\n",
       "L 2      0.214885\n",
       "P 3      0.157159\n",
       "G 4      0.105609\n",
       "L 5      0.182185\n",
       "           ...   \n",
       "E 766    0.000301\n",
       "Q 767    0.168859\n",
       "M 768    0.099376\n",
       "Q 769    0.270177\n",
       "N 770    0.178020\n",
       "Length: 770, dtype: float64"
      ]
     },
     "execution_count": 5,
     "metadata": {},
     "output_type": "execute_result"
    }
   ],
   "source": [
    "paths = get_paths_protein(\"P05067\")\n",
    "avg_diff = pd.read_csv(paths[\"difference_path\"], index_col=0).mean(axis=0)\n",
    "\n",
    "\n",
    "avg_diff"
   ]
  },
  {
   "cell_type": "code",
   "execution_count": null,
   "metadata": {},
   "outputs": [],
   "source": [
    "window_avg = avg_diff_per_position[i : i + window_size].mean()\n"
   ]
  }
 ],
 "metadata": {
  "kernelspec": {
   "display_name": ".venv",
   "language": "python",
   "name": "python3"
  },
  "language_info": {
   "codemirror_mode": {
    "name": "ipython",
    "version": 3
   },
   "file_extension": ".py",
   "mimetype": "text/x-python",
   "name": "python",
   "nbconvert_exporter": "python",
   "pygments_lexer": "ipython3",
   "version": "3.12.7"
  }
 },
 "nbformat": 4,
 "nbformat_minor": 2
}
