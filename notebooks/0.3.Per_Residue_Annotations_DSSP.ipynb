{
 "cells": [
  {
   "cell_type": "markdown",
   "metadata": {},
   "source": [
    "### Computing Statistics per Residue per Protein, Annotating 2D-Structures, Top Pathogenicity Variants...\n",
    "- all handled by protein_statistics()"
   ]
  },
  {
   "cell_type": "code",
   "execution_count": 1,
   "metadata": {},
   "outputs": [],
   "source": [
    "# --- Project Setup ---\n",
    "from setup_notebook import setup_project_root\n",
    "setup_project_root()\n",
    "\n",
    "from src.statistics.protein_statistics import protein_statistics\n",
    "from src.project_config import PROCESSED_DIR, RAW_DIR\n",
    "import pandas as pd\n",
    "import pickle"
   ]
  },
  {
   "cell_type": "code",
   "execution_count": 2,
   "metadata": {},
   "outputs": [
    {
     "name": "stdout",
     "output_type": "stream",
     "text": [
      "{'P50895', 'Q9NZV1', 'P78325', 'Q9Y3A6', 'P08887', 'P98155', 'Q9NS68', 'O14967', 'P13473', 'P06028', 'Q6UXK5', 'Q92643', 'P47985', 'P04234', 'O00206', 'Q6UWJ8', 'Q92729', 'Q6UWV2', 'P08648', 'P01833', 'P28827', 'Q7Z4F1', 'P51693', 'Q13308', 'P37173', 'O75795', 'Q9NPA0', 'Q92692', 'Q8NAC3', 'Q68D85', 'Q8NI17', 'Q9BZW8', 'Q13443', 'P35613', 'P27824', 'Q9P0J0', 'P17342', 'Q8N3T6', 'O95297', 'O75976', 'Q9BY67', 'Q02763', 'P58511', 'P13612', 'P09603', 'Q96IQ7', 'Q15399', 'Q5ZPR3', 'Q9UM47', 'P09848', 'Q9Y696', 'Q9H3N1', 'P16144', 'Q96GP6', 'O00481', 'Q96F46', 'Q04721', 'P16581', 'Q15762', 'Q13651', 'Q13145', 'Q9Y5U5', 'Q8IY17', 'Q9NQ25', 'Q6GTX8', 'P01130', 'Q9HAW7', 'Q15363', 'Q9H553', 'P20702', 'Q9UKQ2', 'P32004', 'Q96IX5', 'P16150', 'P33681', 'P11362', 'P43307', 'Q5SY80', 'Q08334', 'P01133', 'P17301', 'P35916', 'P11215', 'P09958', 'Q9Y2A7', 'Q6ZVL6', 'P14406', 'P78536', 'P49755', 'Q8N131', 'P04626', 'Q9HAT1', 'Q96LA5', 'Q9H3T3', 'P31431', 'Q6UXL0', 'O60462', 'P22223', 'Q86YA3', 'Q9UN67', 'P14209', 'Q9ULI3', 'Q99467', 'P01903', 'Q9BZZ2', 'P05107', 'O75309', 'Q16849', 'Q8N0W4', 'P35070', 'Q9BXS4', 'Q14703', 'Q9NQ34', 'Q13478', 'Q96A26', 'Q6ZV29', 'Q7Z7H5', 'O00548', 'Q13740', 'P05067', 'P43626', 'P12074', 'O15197', 'P07949', 'Q9UHF4', 'Q9Y3B3', 'O14786', 'Q8NBU5', 'P40197', 'Q9NRM6', 'Q9UIK5', 'P51512', 'Q86TY3', 'P01889', 'P50402', 'Q8N114', 'P11279', 'Q8N441', 'P19320', 'P23471', 'Q14956', 'O95866', 'Q8TDQ1', 'Q9HAW9', 'P01911', 'Q86T13', 'Q9UKB5', 'Q96DU3', 'P13726', 'Q96NY7', 'P57087', 'P56134', 'Q9BQI7', 'Q14118', 'P21583', 'Q13444', 'P06213', 'Q92673', 'P02724', 'O75056', 'Q9BQT9', 'P34810', 'Q14126', 'P05106', 'Q9P0V8', 'Q6UXG3', 'Q9BZA8', 'Q9NZA1', 'Q8NC67', 'P16422', 'P12314', 'P20916', 'Q9Y5H9', 'Q9Y624', 'Q6UWI2', 'P07204', 'Q6UX41', 'Q9Y5F9', 'P18827', 'Q9NX14', 'Q9UF33', 'O94985', 'Q86SJ6', 'O15455', 'P26010', 'Q9HBE5', 'P28906', 'P07359', 'Q15738', 'Q9UBN6', 'Q9Y279', 'Q9BXM7', 'Q9UNE0', 'Q15303', 'Q9NZ94', 'Q96NU0', 'Q9H4D0', 'Q6UWL6', 'P35968', 'P04843', 'Q9NWQ8', 'P01909', 'O00299', 'Q8N9R8', 'Q16820', 'Q9HCN6', 'Q13505', 'Q14574', 'Q9NVI7', 'P07202', 'Q30154', 'Q9BSE4', 'O60602', 'P01730', 'Q969N2', 'Q9UKU0', 'P01920', 'P06756', 'Q86YT9', 'Q9NR16', 'O14672', 'P29320', 'P33151', 'Q96A33', 'P12821', 'Q5UCC4', 'P25445', 'P98172', 'Q9NR61', 'Q9UKX5', 'P40126', 'P16284', 'P55283', 'Q9NPF0', 'Q6UVK1', 'Q6PCB8', 'Q9Y639', 'Q96PD2', 'O94826', 'P35590', 'Q9H7M9', 'Q6UW88', 'Q9UKF5', 'Q07011', 'O00264', 'Q06481', 'Q96QU1', 'O60488', 'Q86VZ4', 'O43676', 'P21754', 'Q53RT3', 'P55899', 'O43155', 'Q9H013', 'Q14761', 'P11912', 'Q96FB5', 'Q9BWV1', 'O60313', 'Q9BX59', 'Q01151', 'P08581', 'P58335', 'Q96FE7', 'Q8N126', 'Q86UE4', 'P38570', 'P29317', 'P20333', 'O43184', 'Q9Y5Z0', 'Q13586', 'Q9ULH4', 'Q6PIZ9', 'Q6ZSJ9', 'P15529', 'Q8NFY4', 'Q02413', 'O43291', 'O15173', 'Q6UX27', 'Q9H9K5', 'P40259', 'P60602', 'Q15155', 'P53708', 'Q9H7Z7', 'Q13683', 'Q9Y5G1', 'Q96BY9', 'P49257', 'O75581', 'P15514', 'O00478', 'Q7Z3J2', 'P09619', 'A2VDJ0', 'Q96BF3', 'Q8TED1', 'Q8N6Y1', 'Q12907', 'Q8TDF5', 'Q86YD3', 'Q8N5K1', 'Q9UBS9', 'Q8NFZ3', 'Q9Y5R2', 'Q96AP7', 'P01135', 'O75882', 'Q969Z4', 'Q99075', 'A8MXV6', 'P16070', 'Q8WUY8', 'P22455', 'Q9H5V8', 'P32926', 'P40967', 'P01893', 'P15151', 'P11717', 'O95168', 'Q9Y5E4', 'P46531', 'Q9BQ51', 'Q9NZJ5', 'P04439', 'Q9NZ45', 'Q8N766', 'Q9HDB5', 'P12830', 'Q8IZJ1', 'P08574', 'Q9UKF2', 'P26006', 'P43308', 'P12319', 'Q9P246', 'P17813', 'Q9UQC9', 'Q15768', 'Q02297', 'P16435', 'P09669', 'P20963', 'P20645', 'O60656', 'P53801', 'O75880', 'Q14242', 'P0C7P4', 'Q0VAQ4', 'O14944', 'P60059', 'Q6UWI4', 'O15247', 'Q9HAW8', 'Q96PC5', 'P14151', 'P08069', 'Q15375', 'P23229', 'P15941', 'Q8TC27', 'P13224', 'P50281', 'P56817', 'Q8IXX5', 'P05556', 'Q6ZSA7', 'Q9UDW1', 'Q9P2B2', 'Q16790', 'P54762', 'Q8N350', 'Q92859', 'Q9BX67', 'O95573', 'Q9BUR5', 'P43146', 'Q8TAV4', 'Q96KJ4', 'Q9UIB8', 'O60449', 'P26842', 'O14949', 'P08514', 'Q92956', 'Q8WUT4', 'Q01638', 'Q9NPR2', 'Q02487', 'Q5JTH9', 'O00592', 'P80370', 'P00533', 'P25942', 'Q9BVK6', 'O43169', 'P19022', 'P36888', 'P43121', 'Q86XL3', 'P30530'}\n"
     ]
    },
    {
     "name": "stderr",
     "output_type": "stream",
     "text": [
      "Processing proteins:  51%|█████▏    | 209/406 [04:12<03:31,  1.07s/protein]"
     ]
    },
    {
     "name": "stdout",
     "output_type": "stream",
     "text": [
      "[WARNING] Skipping Q9NVI7: seq length mismatch (AM: 634, UniProt: 586)\n"
     ]
    },
    {
     "name": "stderr",
     "output_type": "stream",
     "text": [
      "Processing proteins:  82%|████████▏ | 331/406 [06:25<01:34,  1.27s/protein]"
     ]
    },
    {
     "name": "stdout",
     "output_type": "stream",
     "text": [
      "[WARNING] Skipping Q9HDB5: missing rank files.\n"
     ]
    },
    {
     "name": "stderr",
     "output_type": "stream",
     "text": [
      "Processing proteins: 100%|██████████| 406/406 [07:46<00:00,  1.15s/protein]\n"
     ]
    }
   ],
   "source": [
    "protein_statistics(store_pathway= PROCESSED_DIR / \"5.2.Protein_Statistics\" / \"DSSP_Singlespan\",  \n",
    "                   dataset= \"DSSP\",\n",
    "                   topology = \"singlespan\"\n",
    "                   )"
   ]
  },
  {
   "cell_type": "code",
   "execution_count": 3,
   "metadata": {},
   "outputs": [
    {
     "name": "stdout",
     "output_type": "stream",
     "text": [
      "{'Q8NH56', 'P21796', 'Q9NV96', 'Q9Y6A9', 'Q9BZJ4', 'P25116', 'P30825', 'Q9Y512', 'Q8WTR4', 'O15260', 'P09131', 'O96005', 'Q8IWA4', 'Q9UM00', 'Q9UNL2', 'Q8TDD5', 'P29973', 'Q8WWZ4', 'Q16602', 'P04000', 'Q12772', 'P51572', 'Q86VI4', 'P49069', 'O95674', 'P21918', 'Q9Y5U9', 'P43005', 'Q92581', 'P34998', 'P21926', 'P08962', 'Q96S66', 'P33527', 'P35499', 'Q8NGP0', 'Q8NCG7', 'O43520', 'Q96J66', 'Q2M3T9', 'Q969E2', 'O75762', 'Q04941', 'Q6UW68', 'Q00325', 'Q86VR2', 'Q96G23', 'Q9NUQ2', 'P35610', 'P03905', 'Q9UHC9', 'Q15125', 'P54852', 'Q6ICI0', 'Q8IWB9', 'P57088', 'P57103', 'P21730', 'Q9HBG4', 'Q9H330', 'Q01814', 'Q05586', 'Q8TDN1', 'P57789', 'P16615', 'Q6NUK1', 'P05023', 'O75844', 'P51170', 'Q969X1', 'Q9H6U8', 'Q9UHC3', 'Q9NYP7', 'Q8MH63', 'P61619', 'P12235', 'Q8IZF2', 'Q13936', 'Q96HR9', 'Q8N4L1', 'Q9BTV4', 'O95264', 'P20020', 'O15127', 'O95907', 'Q96PD6', 'Q9H9B4', 'O60721', 'O60831', 'Q92504', 'Q9NR82', 'Q969X5', 'Q9UI14', 'P51172', 'Q5T601', 'Q9HC07', 'Q9NXL6', 'O96008', 'P50416', 'O94876', 'Q14833', 'Q9H252', 'O95452', 'Q9NZG7', 'P42263', 'Q96RV3', 'Q8WZ71', 'Q99595', 'Q6NUK4', 'Q9HAR2', 'Q9BW60', 'Q9Y6R1', 'Q8IWU2', 'Q9BVG9', 'P00846', 'Q9NQC3', 'Q16478', 'A6NKB5', 'P42261', 'Q7Z7N9', 'O15427', 'O95864', 'Q8N394', 'Q92819', 'O76024', 'Q53TN4', 'Q9Y282', 'Q9Y5U8', 'Q9NRP0', 'P43004', 'O14828', 'Q9HD45', 'Q8N139', 'Q9NZ01', 'Q9Y653', 'O00254', 'Q8NGU4', 'Q15758', 'Q16563', 'Q00765', 'P48544', 'P36544', 'A0FGR8', 'P57764', 'Q9ULK5', 'P55085', 'Q02978', 'Q86UK0', 'Q9UHW9', 'P43003', 'Q9P2U8', 'Q5T6L9', 'Q6ZT21', 'Q8TCJ2', 'P37268', 'Q04656', 'P02730', 'Q96K37', 'Q8NG81', 'Q8WV83', 'P48509', 'Q9NPD5', 'Q13433', 'Q9NZJ7', 'O94910', 'O43497', 'Q53GQ0', 'O75387', 'P17152', 'P30536', 'P04001', 'Q8NFJ5', 'Q9ULV1', 'Q9UHX3', 'Q06495', 'Q92523', 'Q86X19', 'Q86Y34', 'Q99735', 'Q4ZIN3', 'Q9UHQ4', 'Q9NVV0', 'Q14573', 'Q9GZK3', 'Q8WTV0', 'Q08722', 'Q6P4A7', 'O60443', 'O15118', 'P49810', 'Q86Y39', 'Q9NQW8', 'Q9Y2P4', 'Q9H0C2', 'O95180', 'Q6DD88', 'P04844', 'O15126', 'Q8IXU6', 'Q99808', 'P60033', 'P10620', 'Q96J65', 'P53985', 'P46977', 'A6NND4', 'Q96S97', 'P53007', 'Q99758', 'P48058', 'P02748', 'O43306', 'P35670', 'P58743', 'Q8NC56', 'P17787', 'Q12791', 'Q96N66', 'P41594', 'Q13255', 'A6NNN8', 'P46089', 'P51798', 'P78363', 'Q86TM6', 'Q9NP59', 'Q9BSJ8', 'Q8NHU3', 'Q9H1Y3', 'P61803', 'Q8WUM9', 'P30301', 'Q01959', 'P08842', 'Q8NH54', 'Q6UW56', 'Q9Y2U8', 'Q9BWM7', 'Q9H936', 'Q92633', 'Q9H6A9', 'P16671', 'Q13423', 'P50993', 'P07357', 'Q1HG44', 'Q3ZAQ7', 'Q5FYA8', 'P30988', 'P12236', 'O14880', 'Q16720', 'P49768', 'Q99643', 'P00403', 'Q9BVC6', 'P54219', 'P35498', 'Q5FWE3', 'P35408', 'P23634', 'Q75T13', 'Q8IU99', 'P05141', 'O95197', 'Q93084', 'Q9BUN8', 'O00555', 'Q9H2J7', 'Q9Y672', 'P51575', 'Q9H300', 'Q8N2U0', 'P48960', 'Q96RI0', 'Q6P4Q7', 'Q9GZU1', 'Q8WZ94', 'Q15041', 'Q8WWZ7', 'Q9Y6C9', 'Q12879', 'P22459', 'Q9NTI2', 'O60883', 'P11166', 'P98194', 'Q9NX76', 'Q8N4V1', 'Q15070', 'Q96R27', 'Q9NPG1', 'P02708', 'Q8TAD4', 'Q96QD8', 'A8MWL6', 'Q9H0U3', 'P30559', 'P43007', 'P50443', 'O95622', 'Q16625', 'P21728', 'Q9P003', 'P11836', 'Q8NBJ9', 'Q9P1P4', 'Q9HCX4', 'P36956', 'P45844', 'Q8TCT9', 'O15258', 'Q16281', 'Q9GZP9', 'O75915', 'Q9GZM5', 'Q15005', 'Q8N8R3', 'Q15043', 'Q5J8M3', 'Q01650'}\n"
     ]
    },
    {
     "name": "stderr",
     "output_type": "stream",
     "text": [
      "Processing proteins:   5%|▌         | 17/321 [00:17<04:32,  1.12protein/s]"
     ]
    },
    {
     "name": "stdout",
     "output_type": "stream",
     "text": [
      "[WARNING] Skipping P29973: seq length mismatch (AM: 690, UniProt: 686)\n"
     ]
    },
    {
     "name": "stderr",
     "output_type": "stream",
     "text": [
      "Processing proteins:   9%|▉         | 29/321 [00:30<04:39,  1.05protein/s]"
     ]
    },
    {
     "name": "stdout",
     "output_type": "stream",
     "text": [
      "[WARNING] Skipping Q92581: seq length mismatch (AM: 669, UniProt: 701)\n"
     ]
    },
    {
     "name": "stderr",
     "output_type": "stream",
     "text": [
      "Processing proteins:   9%|▉         | 30/321 [00:31<04:35,  1.06protein/s]"
     ]
    },
    {
     "name": "stdout",
     "output_type": "stream",
     "text": [
      "[WARNING] Skipping P34998: seq length mismatch (AM: 444, UniProt: 415)\n"
     ]
    },
    {
     "name": "stderr",
     "output_type": "stream",
     "text": [
      "Processing proteins:  27%|██▋       | 88/321 [01:40<04:06,  1.06s/protein]"
     ]
    },
    {
     "name": "stdout",
     "output_type": "stream",
     "text": [
      "[ERROR] Failed processing O60721: int() argument must be a string, a bytes-like object or a real number, not 'NoneType'\n",
      "Traceback details:\n",
      "Traceback (most recent call last):\n",
      "  File \"/Users/doma/Documents/Bachelor_Arbeit/Code/src/statistics/protein_statistics.py\", line 290, in protein_statistics\n",
      "    features, seq_length_uniprot = get_structural_features(protein,\n",
      "                                   ^^^^^^^^^^^^^^^^^^^^^^^^^^^^^^^^\n",
      "  File \"/Users/doma/Documents/Bachelor_Arbeit/Code/src/statistics/protein_statistics.py\", line 62, in get_structural_features\n",
      "    end = int(feature['location']['end']['value'])\n",
      "          ^^^^^^^^^^^^^^^^^^^^^^^^^^^^^^^^^^^^^^^^\n",
      "TypeError: int() argument must be a string, a bytes-like object or a real number, not 'NoneType'\n",
      "\n"
     ]
    },
    {
     "name": "stderr",
     "output_type": "stream",
     "text": [
      "Processing proteins:  32%|███▏      | 102/321 [01:54<03:59,  1.09s/protein]"
     ]
    },
    {
     "name": "stdout",
     "output_type": "stream",
     "text": [
      "[WARNING] Skipping Q9H252: seq length mismatch (AM: 994, UniProt: 958)\n"
     ]
    },
    {
     "name": "stderr",
     "output_type": "stream",
     "text": [
      "Processing proteins:  43%|████▎     | 137/321 [02:37<03:09,  1.03s/protein]"
     ]
    },
    {
     "name": "stdout",
     "output_type": "stream",
     "text": [
      "[WARNING] Skipping Q8NGU4: seq length mismatch (AM: 316, UniProt: 315)\n"
     ]
    },
    {
     "name": "stderr",
     "output_type": "stream",
     "text": [
      "Processing proteins:  91%|█████████▏| 293/321 [06:13<00:29,  1.06s/protein]"
     ]
    },
    {
     "name": "stdout",
     "output_type": "stream",
     "text": [
      "[WARNING] Skipping P02708: seq length mismatch (AM: 482, UniProt: 457)\n"
     ]
    },
    {
     "name": "stderr",
     "output_type": "stream",
     "text": [
      "Processing proteins: 100%|██████████| 321/321 [06:41<00:00,  1.25s/protein]\n"
     ]
    }
   ],
   "source": [
    "protein_statistics(store_pathway= PROCESSED_DIR / \"5.2.Protein_Statistics\" / \"DSSP_Multispan\",  \n",
    "                   dataset= \"DSSP\",\n",
    "                   topology = \"multispan\"\n",
    "                   )"
   ]
  },
  {
   "cell_type": "code",
   "execution_count": 3,
   "metadata": {},
   "outputs": [
    {
     "name": "stderr",
     "output_type": "stream",
     "text": [
      "Processing proteins:   2%|▏         | 112/5883 [03:19<2:23:10,  1.49s/protein]"
     ]
    },
    {
     "name": "stdout",
     "output_type": "stream",
     "text": [
      "[WARNING] Skipping P01860: seq length mismatch (AM: 377, UniProt: 446)\n"
     ]
    },
    {
     "name": "stderr",
     "output_type": "stream",
     "text": [
      "Processing proteins:   2%|▏         | 129/5883 [03:42<1:50:20,  1.15s/protein]"
     ]
    },
    {
     "name": "stdout",
     "output_type": "stream",
     "text": [
      "[WARNING] Skipping P34998: seq length mismatch (AM: 444, UniProt: 415)\n"
     ]
    },
    {
     "name": "stderr",
     "output_type": "stream",
     "text": [
      "Processing proteins:   2%|▏         | 133/5883 [03:47<2:12:26,  1.38s/protein]"
     ]
    },
    {
     "name": "stdout",
     "output_type": "stream",
     "text": [
      "[WARNING] Skipping O94964: seq length mismatch (AM: 1423, UniProt: 1661)\n"
     ]
    },
    {
     "name": "stderr",
     "output_type": "stream",
     "text": [
      "Processing proteins:   3%|▎         | 190/5883 [05:08<2:18:33,  1.46s/protein]"
     ]
    },
    {
     "name": "stdout",
     "output_type": "stream",
     "text": [
      "[WARNING] Skipping Q8TE59: seq length mismatch (AM: 1207, UniProt: 1213)\n"
     ]
    },
    {
     "name": "stderr",
     "output_type": "stream",
     "text": [
      "Processing proteins:   7%|▋         | 426/5883 [09:51<2:19:52,  1.54s/protein]"
     ]
    },
    {
     "name": "stdout",
     "output_type": "stream",
     "text": [
      "[WARNING] Skipping O94854: seq length mismatch (AM: 1291, UniProt: 3515)\n"
     ]
    },
    {
     "name": "stderr",
     "output_type": "stream",
     "text": [
      "Processing proteins:   7%|▋         | 437/5883 [10:06<1:27:52,  1.03protein/s]"
     ]
    },
    {
     "name": "stdout",
     "output_type": "stream",
     "text": [
      "[WARNING] Skipping Q9NX55: seq length mismatch (AM: 129, UniProt: 121)\n"
     ]
    },
    {
     "name": "stderr",
     "output_type": "stream",
     "text": [
      "Processing proteins:   8%|▊         | 489/5883 [11:05<1:13:04,  1.23protein/s]"
     ]
    },
    {
     "name": "stdout",
     "output_type": "stream",
     "text": [
      "[WARNING] Skipping P01876: seq length mismatch (AM: 353, UniProt: 398)\n"
     ]
    },
    {
     "name": "stderr",
     "output_type": "stream",
     "text": [
      "Processing proteins:   9%|▊         | 514/5883 [11:36<2:31:14,  1.69s/protein]"
     ]
    },
    {
     "name": "stdout",
     "output_type": "stream",
     "text": [
      "[WARNING] Skipping Q9Y4K1: seq length mismatch (AM: 1723, UniProt: 2131)\n"
     ]
    },
    {
     "name": "stderr",
     "output_type": "stream",
     "text": [
      "Processing proteins:  11%|█         | 622/5883 [13:42<1:38:16,  1.12s/protein]"
     ]
    },
    {
     "name": "stdout",
     "output_type": "stream",
     "text": [
      "[WARNING] Skipping Q9Y2G2: seq length mismatch (AM: 426, UniProt: 537)\n"
     ]
    },
    {
     "name": "stderr",
     "output_type": "stream",
     "text": [
      "Processing proteins:  12%|█▏        | 682/5883 [14:52<1:51:48,  1.29s/protein]"
     ]
    },
    {
     "name": "stdout",
     "output_type": "stream",
     "text": [
      "[WARNING] Skipping Q8NGU4: seq length mismatch (AM: 316, UniProt: 315)\n"
     ]
    },
    {
     "name": "stderr",
     "output_type": "stream",
     "text": [
      "Processing proteins:  15%|█▍        | 869/5883 [18:23<1:20:51,  1.03protein/s]"
     ]
    },
    {
     "name": "stdout",
     "output_type": "stream",
     "text": [
      "[WARNING] Skipping Q8IZM8: seq length mismatch (AM: 572, UniProt: 1128)\n"
     ]
    },
    {
     "name": "stderr",
     "output_type": "stream",
     "text": [
      "Processing proteins:  15%|█▍        | 874/5883 [18:28<1:33:03,  1.11s/protein]"
     ]
    },
    {
     "name": "stdout",
     "output_type": "stream",
     "text": [
      "[WARNING] Skipping O94851: seq length mismatch (AM: 1124, UniProt: 1957)\n"
     ]
    },
    {
     "name": "stderr",
     "output_type": "stream",
     "text": [
      "Processing proteins:  17%|█▋        | 1003/5883 [21:10<1:28:44,  1.09s/protein]"
     ]
    },
    {
     "name": "stdout",
     "output_type": "stream",
     "text": [
      "[WARNING] Skipping P26599: seq length mismatch (AM: 531, UniProt: 557)\n"
     ]
    },
    {
     "name": "stderr",
     "output_type": "stream",
     "text": [
      "Processing proteins:  27%|██▋       | 1563/5883 [34:09<1:36:22,  1.34s/protein]"
     ]
    },
    {
     "name": "stdout",
     "output_type": "stream",
     "text": [
      "[WARNING] Skipping Q9BWU0: seq length mismatch (AM: 796, UniProt: 742)\n"
     ]
    },
    {
     "name": "stderr",
     "output_type": "stream",
     "text": [
      "Processing proteins:  27%|██▋       | 1578/5883 [34:29<1:22:43,  1.15s/protein]"
     ]
    },
    {
     "name": "stdout",
     "output_type": "stream",
     "text": [
      "[WARNING] Skipping Q8N7C3: seq length mismatch (AM: 356, UniProt: 437)\n"
     ]
    },
    {
     "name": "stderr",
     "output_type": "stream",
     "text": [
      "Processing proteins:  28%|██▊       | 1636/5883 [35:38<55:12,  1.28protein/s]  "
     ]
    },
    {
     "name": "stdout",
     "output_type": "stream",
     "text": [
      "[WARNING] Skipping Q92581: seq length mismatch (AM: 669, UniProt: 701)\n"
     ]
    },
    {
     "name": "stderr",
     "output_type": "stream",
     "text": [
      "Processing proteins:  29%|██▊       | 1678/5883 [36:33<1:16:30,  1.09s/protein]"
     ]
    },
    {
     "name": "stdout",
     "output_type": "stream",
     "text": [
      "[WARNING] Skipping Q9NVI7: seq length mismatch (AM: 634, UniProt: 586)\n"
     ]
    },
    {
     "name": "stderr",
     "output_type": "stream",
     "text": [
      "Processing proteins:  29%|██▉       | 1695/5883 [36:56<2:15:24,  1.94s/protein]"
     ]
    },
    {
     "name": "stdout",
     "output_type": "stream",
     "text": [
      "[WARNING] Skipping Q14160: seq length mismatch (AM: 1630, UniProt: 1655)\n"
     ]
    },
    {
     "name": "stderr",
     "output_type": "stream",
     "text": [
      "Processing proteins:  31%|███       | 1812/5883 [39:37<1:49:45,  1.62s/protein]"
     ]
    },
    {
     "name": "stdout",
     "output_type": "stream",
     "text": [
      "[ERROR] Failed processing O60721: int() argument must be a string, a bytes-like object or a real number, not 'NoneType'\n",
      "Traceback details:\n",
      "Traceback (most recent call last):\n",
      "  File \"/Users/doma/Documents/Bachelor_Arbeit/Code/src/statistics/protein_statistics.py\", line 290, in protein_statistics\n",
      "    features, seq_length_uniprot = get_structural_features(protein,\n",
      "                                   ^^^^^^^^^^^^^^^^^^^^^^^^^^^^^^^^\n",
      "  File \"/Users/doma/Documents/Bachelor_Arbeit/Code/src/statistics/protein_statistics.py\", line 62, in get_structural_features\n",
      "    end = int(feature['location']['end']['value'])\n",
      "          ^^^^^^^^^^^^^^^^^^^^^^^^^^^^^^^^^^^^^^^^\n",
      "TypeError: int() argument must be a string, a bytes-like object or a real number, not 'NoneType'\n",
      "\n"
     ]
    },
    {
     "name": "stderr",
     "output_type": "stream",
     "text": [
      "Processing proteins:  33%|███▎      | 1913/5883 [41:51<1:05:08,  1.02protein/s]"
     ]
    },
    {
     "name": "stdout",
     "output_type": "stream",
     "text": [
      "[WARNING] Skipping P01857: seq length mismatch (AM: 330, UniProt: 399)\n"
     ]
    },
    {
     "name": "stderr",
     "output_type": "stream",
     "text": [
      "Processing proteins:  33%|███▎      | 1961/5883 [42:57<1:43:22,  1.58s/protein]"
     ]
    },
    {
     "name": "stdout",
     "output_type": "stream",
     "text": [
      "[WARNING] Skipping Q07654: seq length mismatch (AM: 94, UniProt: 80)\n"
     ]
    },
    {
     "name": "stderr",
     "output_type": "stream",
     "text": [
      "Processing proteins:  34%|███▍      | 2016/5883 [44:15<1:25:46,  1.33s/protein]"
     ]
    },
    {
     "name": "stdout",
     "output_type": "stream",
     "text": [
      "[WARNING] Skipping Q9Y233: seq length mismatch (AM: 779, UniProt: 1055)\n"
     ]
    },
    {
     "name": "stderr",
     "output_type": "stream",
     "text": [
      "Processing proteins:  36%|███▌      | 2103/5883 [46:02<1:12:01,  1.14s/protein]"
     ]
    },
    {
     "name": "stdout",
     "output_type": "stream",
     "text": [
      "[WARNING] Skipping P01861: seq length mismatch (AM: 327, UniProt: 396)\n"
     ]
    },
    {
     "name": "stderr",
     "output_type": "stream",
     "text": [
      "Processing proteins:  37%|███▋      | 2178/5883 [47:51<1:47:52,  1.75s/protein]"
     ]
    },
    {
     "name": "stdout",
     "output_type": "stream",
     "text": [
      "[WARNING] Skipping Q96Q06: seq length mismatch (AM: 1357, UniProt: 1371)\n"
     ]
    },
    {
     "name": "stderr",
     "output_type": "stream",
     "text": [
      "Processing proteins:  41%|████      | 2412/5883 [53:25<1:34:52,  1.64s/protein]"
     ]
    },
    {
     "name": "stdout",
     "output_type": "stream",
     "text": [
      "[WARNING] Skipping Q14241: seq length mismatch (AM: 798, UniProt: 772)\n"
     ]
    },
    {
     "name": "stderr",
     "output_type": "stream",
     "text": [
      "Processing proteins:  42%|████▏     | 2470/5883 [54:49<1:06:12,  1.16s/protein]"
     ]
    },
    {
     "name": "stdout",
     "output_type": "stream",
     "text": [
      "[WARNING] Skipping P36639: seq length mismatch (AM: 113, UniProt: 156)\n"
     ]
    },
    {
     "name": "stderr",
     "output_type": "stream",
     "text": [
      "Processing proteins:  43%|████▎     | 2531/5883 [55:57<49:47,  1.12protein/s]  "
     ]
    },
    {
     "name": "stdout",
     "output_type": "stream",
     "text": [
      "[WARNING] Skipping P01859: seq length mismatch (AM: 326, UniProt: 395)\n"
     ]
    },
    {
     "name": "stderr",
     "output_type": "stream",
     "text": [
      "Processing proteins:  44%|████▎     | 2566/5883 [56:48<2:02:32,  2.22s/protein]"
     ]
    },
    {
     "name": "stdout",
     "output_type": "stream",
     "text": [
      "[WARNING] Skipping Q9UPP5: seq length mismatch (AM: 1279, UniProt: 1792)\n"
     ]
    },
    {
     "name": "stderr",
     "output_type": "stream",
     "text": [
      "Processing proteins:  44%|████▎     | 2570/5883 [56:52<1:08:04,  1.23s/protein]"
     ]
    },
    {
     "name": "stdout",
     "output_type": "stream",
     "text": [
      "[WARNING] Skipping Q4VXU2: seq length mismatch (AM: 614, UniProt: 619)\n"
     ]
    },
    {
     "name": "stderr",
     "output_type": "stream",
     "text": [
      "Processing proteins:  45%|████▍     | 2622/5883 [58:28<1:28:23,  1.63s/protein]"
     ]
    },
    {
     "name": "stdout",
     "output_type": "stream",
     "text": [
      "[WARNING] Skipping P47756: seq length mismatch (AM: 277, UniProt: 272)\n"
     ]
    },
    {
     "name": "stderr",
     "output_type": "stream",
     "text": [
      "Processing proteins:  48%|████▊     | 2802/5883 [1:02:28<1:18:34,  1.53s/protein]"
     ]
    },
    {
     "name": "stdout",
     "output_type": "stream",
     "text": [
      "[WARNING] Skipping Q9Y2D5: seq length mismatch (AM: 859, UniProt: 1103)\n"
     ]
    },
    {
     "name": "stderr",
     "output_type": "stream",
     "text": [
      "Processing proteins:  49%|████▉     | 2889/5883 [1:04:18<59:03,  1.18s/protein]  "
     ]
    },
    {
     "name": "stdout",
     "output_type": "stream",
     "text": [
      "[WARNING] Skipping Q66PJ3: seq length mismatch (AM: 421, UniProt: 237)\n"
     ]
    },
    {
     "name": "stderr",
     "output_type": "stream",
     "text": [
      "Processing proteins:  50%|████▉     | 2913/5883 [1:04:56<1:45:14,  2.13s/protein]"
     ]
    },
    {
     "name": "stdout",
     "output_type": "stream",
     "text": [
      "[Retry 1/5] SSL error for Q9BX10: ('Connection aborted.', ConnectionResetError(54, 'Connection reset by peer'))\n",
      "[Retry 2/5] SSL error for Q9BX10: HTTPSConnectionPool(host='rest.uniprot.org', port=443): Max retries exceeded with url: /uniprotkb/Q9BX10.json (Caused by ConnectTimeoutError(<urllib3.connection.HTTPSConnection object at 0x43c45e420>, 'Connection to rest.uniprot.org timed out. (connect timeout=10)'))\n"
     ]
    },
    {
     "name": "stderr",
     "output_type": "stream",
     "text": [
      "Processing proteins:  50%|████▉     | 2935/5883 [1:06:31<2:40:14,  3.26s/protein] "
     ]
    },
    {
     "name": "stdout",
     "output_type": "stream",
     "text": [
      "[WARNING] Skipping Q8NFD5: seq length mismatch (AM: 2236, UniProt: 2319)\n"
     ]
    },
    {
     "name": "stderr",
     "output_type": "stream",
     "text": [
      "Processing proteins:  51%|█████▏    | 3025/5883 [1:08:28<48:42,  1.02s/protein]  "
     ]
    },
    {
     "name": "stdout",
     "output_type": "stream",
     "text": [
      "[WARNING] Skipping O75367: seq length mismatch (AM: 372, UniProt: 369)\n"
     ]
    },
    {
     "name": "stderr",
     "output_type": "stream",
     "text": [
      "Processing proteins:  52%|█████▏    | 3080/5883 [1:09:41<52:35,  1.13s/protein]  "
     ]
    },
    {
     "name": "stdout",
     "output_type": "stream",
     "text": [
      "[ERROR] Failed processing O15056: int() argument must be a string, a bytes-like object or a real number, not 'NoneType'\n",
      "Traceback details:\n",
      "Traceback (most recent call last):\n",
      "  File \"/Users/doma/Documents/Bachelor_Arbeit/Code/src/statistics/protein_statistics.py\", line 290, in protein_statistics\n",
      "    features, seq_length_uniprot = get_structural_features(protein,\n",
      "                                   ^^^^^^^^^^^^^^^^^^^^^^^^^^^^^^^^\n",
      "  File \"/Users/doma/Documents/Bachelor_Arbeit/Code/src/statistics/protein_statistics.py\", line 62, in get_structural_features\n",
      "    end = int(feature['location']['end']['value'])\n",
      "          ^^^^^^^^^^^^^^^^^^^^^^^^^^^^^^^^^^^^^^^^\n",
      "TypeError: int() argument must be a string, a bytes-like object or a real number, not 'NoneType'\n",
      "\n"
     ]
    },
    {
     "name": "stderr",
     "output_type": "stream",
     "text": [
      "Processing proteins:  56%|█████▌    | 3269/5883 [1:13:26<45:40,  1.05s/protein]  "
     ]
    },
    {
     "name": "stdout",
     "output_type": "stream",
     "text": [
      "[ERROR] Failed processing P05120: int() argument must be a string, a bytes-like object or a real number, not 'NoneType'\n",
      "Traceback details:\n",
      "Traceback (most recent call last):\n",
      "  File \"/Users/doma/Documents/Bachelor_Arbeit/Code/src/statistics/protein_statistics.py\", line 290, in protein_statistics\n",
      "    features, seq_length_uniprot = get_structural_features(protein,\n",
      "                                   ^^^^^^^^^^^^^^^^^^^^^^^^^^^^^^^^\n",
      "  File \"/Users/doma/Documents/Bachelor_Arbeit/Code/src/statistics/protein_statistics.py\", line 62, in get_structural_features\n",
      "    end = int(feature['location']['end']['value'])\n",
      "          ^^^^^^^^^^^^^^^^^^^^^^^^^^^^^^^^^^^^^^^^\n",
      "TypeError: int() argument must be a string, a bytes-like object or a real number, not 'NoneType'\n",
      "\n"
     ]
    },
    {
     "name": "stderr",
     "output_type": "stream",
     "text": [
      "Processing proteins:  61%|██████    | 3581/5883 [1:19:53<34:07,  1.12protein/s]  "
     ]
    },
    {
     "name": "stdout",
     "output_type": "stream",
     "text": [
      "[WARNING] Skipping Q8WYJ6: seq length mismatch (AM: 363, UniProt: 372)\n"
     ]
    },
    {
     "name": "stderr",
     "output_type": "stream",
     "text": [
      "Processing proteins:  61%|██████    | 3592/5883 [1:20:07<46:16,  1.21s/protein]"
     ]
    },
    {
     "name": "stdout",
     "output_type": "stream",
     "text": [
      "[WARNING] Skipping P02708: seq length mismatch (AM: 482, UniProt: 457)\n"
     ]
    },
    {
     "name": "stderr",
     "output_type": "stream",
     "text": [
      "Processing proteins:  62%|██████▏   | 3627/5883 [1:20:53<43:24,  1.15s/protein]  "
     ]
    },
    {
     "name": "stdout",
     "output_type": "stream",
     "text": [
      "[WARNING] Skipping P01871: seq length mismatch (AM: 453, UniProt: 474)\n"
     ]
    },
    {
     "name": "stderr",
     "output_type": "stream",
     "text": [
      "Processing proteins:  62%|██████▏   | 3668/5883 [1:21:47<56:13,  1.52s/protein]  "
     ]
    },
    {
     "name": "stdout",
     "output_type": "stream",
     "text": [
      "[WARNING] Skipping Q2VWA4: seq length mismatch (AM: 995, UniProt: 1015)\n"
     ]
    },
    {
     "name": "stderr",
     "output_type": "stream",
     "text": [
      "Processing proteins:  64%|██████▍   | 3771/5883 [1:23:48<29:19,  1.20protein/s]  "
     ]
    },
    {
     "name": "stdout",
     "output_type": "stream",
     "text": [
      "[WARNING] Skipping Q9P0K9: seq length mismatch (AM: 344, UniProt: 293)\n"
     ]
    },
    {
     "name": "stderr",
     "output_type": "stream",
     "text": [
      "Processing proteins:  65%|██████▌   | 3853/5883 [1:25:17<59:46,  1.77s/protein]  "
     ]
    },
    {
     "name": "stdout",
     "output_type": "stream",
     "text": [
      "[WARNING] Skipping P28370: seq length mismatch (AM: 1054, UniProt: 1042)\n"
     ]
    },
    {
     "name": "stderr",
     "output_type": "stream",
     "text": [
      "Processing proteins:  67%|██████▋   | 3917/5883 [1:26:21<33:50,  1.03s/protein]  "
     ]
    },
    {
     "name": "stdout",
     "output_type": "stream",
     "text": [
      "[WARNING] Skipping Q9P2M7: seq length mismatch (AM: 1197, UniProt: 1203)\n"
     ]
    },
    {
     "name": "stderr",
     "output_type": "stream",
     "text": [
      "Processing proteins:  67%|██████▋   | 3971/5883 [1:27:21<52:24,  1.64s/protein]"
     ]
    },
    {
     "name": "stdout",
     "output_type": "stream",
     "text": [
      "[WARNING] Skipping Q96RK0: seq length mismatch (AM: 1608, UniProt: 2517)\n"
     ]
    },
    {
     "name": "stderr",
     "output_type": "stream",
     "text": [
      "Processing proteins:  68%|██████▊   | 3993/5883 [1:27:50<48:44,  1.55s/protein]"
     ]
    },
    {
     "name": "stdout",
     "output_type": "stream",
     "text": [
      "[WARNING] Skipping Q9H252: seq length mismatch (AM: 994, UniProt: 958)\n"
     ]
    },
    {
     "name": "stderr",
     "output_type": "stream",
     "text": [
      "Processing proteins:  69%|██████▉   | 4073/5883 [1:29:30<33:04,  1.10s/protein]  "
     ]
    },
    {
     "name": "stdout",
     "output_type": "stream",
     "text": [
      "[WARNING] Skipping P63132: seq length mismatch (AM: 956, UniProt: 959)\n"
     ]
    },
    {
     "name": "stderr",
     "output_type": "stream",
     "text": [
      "Processing proteins:  75%|███████▌  | 4423/5883 [1:35:58<23:14,  1.05protein/s]"
     ]
    },
    {
     "name": "stdout",
     "output_type": "stream",
     "text": [
      "[WARNING] Skipping P15692: seq length mismatch (AM: 232, UniProt: 395)\n"
     ]
    },
    {
     "name": "stderr",
     "output_type": "stream",
     "text": [
      "Processing proteins:  76%|███████▌  | 4463/5883 [1:36:43<21:02,  1.12protein/s]"
     ]
    },
    {
     "name": "stdout",
     "output_type": "stream",
     "text": [
      "[WARNING] Skipping Q96GQ7: seq length mismatch (AM: 796, UniProt: 765)\n"
     ]
    },
    {
     "name": "stderr",
     "output_type": "stream",
     "text": [
      "Processing proteins:  76%|███████▋  | 4500/5883 [1:37:26<21:57,  1.05protein/s]"
     ]
    },
    {
     "name": "stdout",
     "output_type": "stream",
     "text": [
      "[WARNING] Skipping Q8TE02: seq length mismatch (AM: 316, UniProt: 300)\n"
     ]
    },
    {
     "name": "stderr",
     "output_type": "stream",
     "text": [
      "Processing proteins:  81%|████████  | 4750/5883 [1:41:56<14:00,  1.35protein/s]"
     ]
    },
    {
     "name": "stdout",
     "output_type": "stream",
     "text": [
      "[ERROR] Failed processing P35030: int() argument must be a string, a bytes-like object or a real number, not 'NoneType'\n",
      "Traceback details:\n",
      "Traceback (most recent call last):\n",
      "  File \"/Users/doma/Documents/Bachelor_Arbeit/Code/src/statistics/protein_statistics.py\", line 290, in protein_statistics\n",
      "    features, seq_length_uniprot = get_structural_features(protein,\n",
      "                                   ^^^^^^^^^^^^^^^^^^^^^^^^^^^^^^^^\n",
      "  File \"/Users/doma/Documents/Bachelor_Arbeit/Code/src/statistics/protein_statistics.py\", line 62, in get_structural_features\n",
      "    end = int(feature['location']['end']['value'])\n",
      "          ^^^^^^^^^^^^^^^^^^^^^^^^^^^^^^^^^^^^^^^^\n",
      "TypeError: int() argument must be a string, a bytes-like object or a real number, not 'NoneType'\n",
      "\n"
     ]
    },
    {
     "name": "stderr",
     "output_type": "stream",
     "text": [
      "Processing proteins:  83%|████████▎ | 4865/5883 [1:43:40<13:04,  1.30protein/s]"
     ]
    },
    {
     "name": "stdout",
     "output_type": "stream",
     "text": [
      "[WARNING] Skipping O15131: seq length mismatch (AM: 536, UniProt: 539)\n"
     ]
    },
    {
     "name": "stderr",
     "output_type": "stream",
     "text": [
      "Processing proteins:  84%|████████▍ | 4937/5883 [1:44:44<10:10,  1.55protein/s]"
     ]
    },
    {
     "name": "stdout",
     "output_type": "stream",
     "text": [
      "[WARNING] Skipping P01877: seq length mismatch (AM: 340, UniProt: 391)\n"
     ]
    },
    {
     "name": "stderr",
     "output_type": "stream",
     "text": [
      "Processing proteins:  85%|████████▌ | 5013/5883 [1:45:58<16:37,  1.15s/protein]"
     ]
    },
    {
     "name": "stdout",
     "output_type": "stream",
     "text": [
      "[ERROR] Failed processing Q9Y223: int() argument must be a string, a bytes-like object or a real number, not 'NoneType'\n",
      "Traceback details:\n",
      "Traceback (most recent call last):\n",
      "  File \"/Users/doma/Documents/Bachelor_Arbeit/Code/src/statistics/protein_statistics.py\", line 290, in protein_statistics\n",
      "    features, seq_length_uniprot = get_structural_features(protein,\n",
      "                                   ^^^^^^^^^^^^^^^^^^^^^^^^^^^^^^^^\n",
      "  File \"/Users/doma/Documents/Bachelor_Arbeit/Code/src/statistics/protein_statistics.py\", line 62, in get_structural_features\n",
      "    end = int(feature['location']['end']['value'])\n",
      "          ^^^^^^^^^^^^^^^^^^^^^^^^^^^^^^^^^^^^^^^^\n",
      "TypeError: int() argument must be a string, a bytes-like object or a real number, not 'NoneType'\n",
      "\n"
     ]
    },
    {
     "name": "stderr",
     "output_type": "stream",
     "text": [
      "Processing proteins:  86%|████████▌ | 5054/5883 [1:46:38<16:17,  1.18s/protein]"
     ]
    },
    {
     "name": "stdout",
     "output_type": "stream",
     "text": [
      "[WARNING] Skipping Q9HCJ0: seq length mismatch (AM: 1690, UniProt: 1936)\n"
     ]
    },
    {
     "name": "stderr",
     "output_type": "stream",
     "text": [
      "Processing proteins:  86%|████████▋ | 5080/5883 [1:47:08<19:52,  1.49s/protein]"
     ]
    },
    {
     "name": "stdout",
     "output_type": "stream",
     "text": [
      "[WARNING] Skipping Q9Y4E1: seq length mismatch (AM: 1320, UniProt: 1341)\n"
     ]
    },
    {
     "name": "stderr",
     "output_type": "stream",
     "text": [
      "Processing proteins:  90%|█████████ | 5316/5883 [1:50:51<08:44,  1.08protein/s]"
     ]
    },
    {
     "name": "stdout",
     "output_type": "stream",
     "text": [
      "[WARNING] Skipping Q01433: seq length mismatch (AM: 879, UniProt: 825)\n"
     ]
    },
    {
     "name": "stderr",
     "output_type": "stream",
     "text": [
      "Processing proteins:  95%|█████████▍| 5561/5883 [1:54:40<03:46,  1.42protein/s]"
     ]
    },
    {
     "name": "stdout",
     "output_type": "stream",
     "text": [
      "[WARNING] Skipping Q8WUH1: seq length mismatch (AM: 139, UniProt: 112)\n"
     ]
    },
    {
     "name": "stderr",
     "output_type": "stream",
     "text": [
      "Processing proteins:  95%|█████████▍| 5567/5883 [1:54:45<05:02,  1.04protein/s]"
     ]
    },
    {
     "name": "stdout",
     "output_type": "stream",
     "text": [
      "[WARNING] Skipping P01019: seq length mismatch (AM: 485, UniProt: 476)\n"
     ]
    },
    {
     "name": "stderr",
     "output_type": "stream",
     "text": [
      "Processing proteins:  95%|█████████▍| 5576/5883 [1:54:54<05:23,  1.05s/protein]"
     ]
    },
    {
     "name": "stdout",
     "output_type": "stream",
     "text": [
      "[ERROR] Failed processing Q93097: int() argument must be a string, a bytes-like object or a real number, not 'NoneType'\n",
      "Traceback details:\n",
      "Traceback (most recent call last):\n",
      "  File \"/Users/doma/Documents/Bachelor_Arbeit/Code/src/statistics/protein_statistics.py\", line 290, in protein_statistics\n",
      "    features, seq_length_uniprot = get_structural_features(protein,\n",
      "                                   ^^^^^^^^^^^^^^^^^^^^^^^^^^^^^^^^\n",
      "  File \"/Users/doma/Documents/Bachelor_Arbeit/Code/src/statistics/protein_statistics.py\", line 62, in get_structural_features\n",
      "    end = int(feature['location']['end']['value'])\n",
      "          ^^^^^^^^^^^^^^^^^^^^^^^^^^^^^^^^^^^^^^^^\n",
      "TypeError: int() argument must be a string, a bytes-like object or a real number, not 'NoneType'\n",
      "\n"
     ]
    },
    {
     "name": "stderr",
     "output_type": "stream",
     "text": [
      "Processing proteins:  95%|█████████▍| 5587/5883 [1:55:04<05:40,  1.15s/protein]"
     ]
    },
    {
     "name": "stdout",
     "output_type": "stream",
     "text": [
      "[WARNING] Skipping Q5JV73: seq length mismatch (AM: 1810, UniProt: 1777)\n"
     ]
    },
    {
     "name": "stderr",
     "output_type": "stream",
     "text": [
      "Processing proteins:  97%|█████████▋| 5696/5883 [1:56:43<03:07,  1.00s/protein]"
     ]
    },
    {
     "name": "stdout",
     "output_type": "stream",
     "text": [
      "[WARNING] Skipping P49411: seq length mismatch (AM: 452, UniProt: 455)\n"
     ]
    },
    {
     "name": "stderr",
     "output_type": "stream",
     "text": [
      "Processing proteins:  98%|█████████▊| 5738/5883 [1:57:19<02:51,  1.18s/protein]"
     ]
    },
    {
     "name": "stdout",
     "output_type": "stream",
     "text": [
      "[WARNING] Skipping P29973: seq length mismatch (AM: 690, UniProt: 686)\n"
     ]
    },
    {
     "name": "stderr",
     "output_type": "stream",
     "text": [
      "Processing proteins:  98%|█████████▊| 5753/5883 [1:57:33<02:10,  1.01s/protein]"
     ]
    },
    {
     "name": "stdout",
     "output_type": "stream",
     "text": [
      "[WARNING] Skipping P12036: seq length mismatch (AM: 1026, UniProt: 1020)\n"
     ]
    },
    {
     "name": "stderr",
     "output_type": "stream",
     "text": [
      "Processing proteins:  98%|█████████▊| 5785/5883 [1:58:07<02:31,  1.55s/protein]"
     ]
    },
    {
     "name": "stdout",
     "output_type": "stream",
     "text": [
      "[WARNING] Skipping Q92538: seq length mismatch (AM: 1859, UniProt: 1860)\n"
     ]
    },
    {
     "name": "stderr",
     "output_type": "stream",
     "text": [
      "Processing proteins: 100%|█████████▉| 5862/5883 [1:59:22<00:18,  1.11protein/s]"
     ]
    },
    {
     "name": "stdout",
     "output_type": "stream",
     "text": [
      "[WARNING] Skipping Q53TS8: seq length mismatch (AM: 623, UniProt: 1820)\n"
     ]
    },
    {
     "name": "stderr",
     "output_type": "stream",
     "text": [
      "Processing proteins: 100%|██████████| 5883/5883 [1:59:42<00:00,  1.22s/protein]\n"
     ]
    }
   ],
   "source": [
    "protein_statistics(store_pathway= PROCESSED_DIR / \"5.2.Protein_Statistics\" / \"DSSP_5800\",  \n",
    "                   dataset= \"DSSP\",\n",
    "                   topology = None\n",
    "                   )"
   ]
  },
  {
   "cell_type": "code",
   "execution_count": null,
   "metadata": {},
   "outputs": [],
   "source": [
    "protein_statistics(store_pathway= PROCESSED_DIR / \"5.2.Protein_Statistics\" / \"DSSP_ALL_HUMAN_PROTEOME\",  \n",
    "                   dataset= \"all_human\",\n",
    "                   topology = None\n",
    "                   )"
   ]
  }
 ],
 "metadata": {
  "kernelspec": {
   "display_name": ".venv (3.12.7)",
   "language": "python",
   "name": "python3"
  },
  "language_info": {
   "codemirror_mode": {
    "name": "ipython",
    "version": 3
   },
   "file_extension": ".py",
   "mimetype": "text/x-python",
   "name": "python",
   "nbconvert_exporter": "python",
   "pygments_lexer": "ipython3",
   "version": "3.12.7"
  }
 },
 "nbformat": 4,
 "nbformat_minor": 2
}
