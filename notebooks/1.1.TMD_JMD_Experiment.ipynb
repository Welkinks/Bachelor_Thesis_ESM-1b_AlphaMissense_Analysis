{
 "cells": [
  {
   "cell_type": "code",
   "execution_count": 281,
   "metadata": {},
   "outputs": [],
   "source": [
    "# --- Project Setup ---\n",
    "from setup_notebook import setup_project_root\n",
    "setup_project_root()\n",
    "\n",
    "# --- Imports ---\n",
    "from src.project_config import N_OUT_PROTEIN_ID, COLORS_MODELS, PROCESSED_DIR, PROTEIN_IDS_CSV, IMAGES_DIR, get_paths_protein\n",
    "import pandas as pd\n",
    "import numpy as np\n",
    "import seaborn as sns\n",
    "from tqdm.notebook import tqdm\n",
    "import matplotlib.pyplot as plt\n",
    "import matplotlib.colors as mcolors\n",
    "from scipy.stats import mannwhitneyu\n",
    "from pathlib import Path\n"
   ]
  },
  {
   "cell_type": "markdown",
   "metadata": {},
   "source": [
    "### Data processing\n",
    "   1. load rank statistics data\n",
    "   2. average over tmd+jmd + TMD + cleavage site + anker "
   ]
  },
  {
   "cell_type": "code",
   "execution_count": 62,
   "metadata": {},
   "outputs": [],
   "source": [
    "n_out_protein_ids = pd.read_csv(N_OUT_PROTEIN_ID)"
   ]
  },
  {
   "cell_type": "code",
   "execution_count": 63,
   "metadata": {},
   "outputs": [
    {
     "data": {
      "application/vnd.jupyter.widget-view+json": {
       "model_id": "509dd0ba738d438db05135cf88193a52",
       "version_major": 2,
       "version_minor": 0
      },
      "text/plain": [
       "Processing Proteins:   0%|          | 0/1534 [00:00<?, ?it/s]"
      ]
     },
     "metadata": {},
     "output_type": "display_data"
    },
    {
     "name": "stdout",
     "output_type": "stream",
     "text": [
      "File not found for protein Q8N423. Skipping...\n",
      "File not found for protein Q9HDB5. Skipping...\n",
      "File not found for protein P58400. Skipping...\n",
      "File not found for protein P58401. Skipping...\n",
      "File not found for protein P0DSE2. Skipping...\n",
      "File not found for protein P23467. Skipping...\n",
      "File not found for protein Q9H195. Skipping...\n",
      "File not found for protein Q8NAU1. Skipping...\n",
      "File not found for protein O42043. Skipping...\n",
      "File not found for protein Q92813. Skipping...\n",
      "File not found for protein P49895. Skipping...\n",
      "File not found for protein A8MZ97. Skipping...\n",
      "File not found for protein O71037. Skipping...\n",
      "File not found for protein P61566. Skipping...\n",
      "File not found for protein Q69384. Skipping...\n",
      "File not found for protein P61567. Skipping...\n",
      "File not found for protein Q902F8. Skipping...\n",
      "File not found for protein Q9UKH3. Skipping...\n",
      "File not found for protein Q9BQE4. Skipping...\n",
      "File not found for protein Q16850. Skipping...\n",
      "File not found for protein Q8TD46. Skipping...\n",
      "File not found for protein Q9Y6D0. Skipping...\n",
      "File not found for protein Q8NBV8. Skipping...\n",
      "File not found for protein Q9NZU1. Skipping...\n",
      "File not found for protein Q7Z5N4. Skipping...\n",
      "File not found for protein P62341. Skipping...\n",
      "File not found for protein F7VJQ1. Skipping...\n",
      "File not found for protein Q99102. Skipping...\n",
      "File not found for protein Q9NSK7. Skipping...\n",
      "File not found for protein H3BV60. Skipping...\n",
      "File not found for protein Q9NVI7. Skipping...\n",
      "File not found for protein L0R6Q1. Skipping...\n",
      "Weighted mean (second numbers): 0.47649107164228105\n",
      "Weighted mean (third numbers): 0.5048395241723528\n",
      "Number of failed protein statistics files: 32\n"
     ]
    }
   ],
   "source": [
    "# 1. Load N-Out protein IDs, load fom DSSP_ALL_HUMAN_PROTEOME proteins statistics CSV\n",
    "store_data = n_out_protein_ids.copy()\n",
    "protein_averages = []\n",
    "count_fails = 0\n",
    "\n",
    "for protein_id in tqdm(store_data[\"entry\"], desc=\"Processing Proteins\"):  # for testing [\"P05067\", \"Q06418\"]: \n",
    "    # Load protein statistics\n",
    "    try:\n",
    "        protein_statistics = pd.read_csv(get_paths_protein(protein_id)[\"dssp_protein_path\"])\n",
    "    except FileNotFoundError:\n",
    "        print(f\"File not found for protein {protein_id}. Skipping...\")\n",
    "        count_fails += 1\n",
    "        continue\n",
    "\n",
    "\n",
    "\n",
    "    # Mean overall\n",
    "    AM_overall_mean = round(protein_statistics[\"AM_mean\"].mean(), 6)\n",
    "    ESM_overall_mean = round(protein_statistics[\"ESM_mean\"].mean(), 6)\n",
    "    protein_averages.append((store_data.loc[store_data[\"entry\"] == protein_id][\"length\"].iloc[0], AM_overall_mean, ESM_overall_mean))\n",
    "    store_data.loc[store_data[\"entry\"] == protein_id, \"AM_Protein_Mean\"] = AM_overall_mean\n",
    "    store_data.loc[store_data[\"entry\"] == protein_id, \"ESM_Protein_Mean\"] = ESM_overall_mean\n",
    "\n",
    "\n",
    "\n",
    "\n",
    "\n",
    "    ### Mean over TMD+JMD and assign to store_data ###\n",
    "    AM_TMD_JMD_mean = round(protein_statistics[\n",
    "        (protein_statistics[\"Transmembrane\"] == \"Helical\") | \n",
    "        (protein_statistics[\"Juxtamembrane\"] == 1)\n",
    "    ][\"AM_mean\"].mean(), 6)\n",
    "\n",
    "    ESM_TMD_JMD_mean = round(protein_statistics[\n",
    "        (protein_statistics[\"Transmembrane\"] == \"Helical\") | \n",
    "        (protein_statistics[\"Juxtamembrane\"] == 1)\n",
    "    ][\"ESM_mean\"].mean(), 6)\n",
    "\n",
    "    store_data.loc[store_data[\"entry\"] == protein_id, \"AM_TMD_JMD_mean\"] = AM_TMD_JMD_mean\n",
    "    store_data.loc[store_data[\"entry\"] == protein_id, \"ESM_TMD_JMD_mean\"] = ESM_TMD_JMD_mean\n",
    "    ### ###\n",
    "\n",
    "\n",
    "\n",
    "\n",
    "    ### Mean over cleavage_site and TMD-C anchor ###\n",
    "    # 11AA Cleavage Region (TMD-C 7, JMD 4) - start end\n",
    "    row = store_data.loc[store_data['entry'] == protein_id].squeeze()\n",
    "    highlight_start = row['len_signal_pep'] + row['len_top_n'] + row['len_tmd']  - 6\n",
    "    highlight_end = row['len_signal_pep'] + row['len_top_n'] + row['len_tmd']  + 4\n",
    "\n",
    "    AM_cleavage_11AA_mean = round(protein_statistics[\n",
    "        (protein_statistics[\"residue_position\"] >= highlight_start) &\n",
    "        (protein_statistics[\"residue_position\"] <= highlight_end)\n",
    "    ][\"AM_mean\"].mean(), 6)\n",
    "\n",
    "    ESM_cleavage_11AA_mean = round(protein_statistics[\n",
    "        (protein_statistics[\"residue_position\"] >= highlight_start) &\n",
    "        (protein_statistics[\"residue_position\"] <= highlight_end)\n",
    "    ][\"ESM_mean\"].mean(), 6)\n",
    "\n",
    "    store_data.loc[store_data[\"entry\"] == protein_id, \"AM_cleavage_11AA_mean\"] = AM_cleavage_11AA_mean\n",
    "    store_data.loc[store_data[\"entry\"] == protein_id, \"ESM_cleavage_11AA_mean\"] = ESM_cleavage_11AA_mean\n",
    "    ### ###\n",
    "\n",
    "\n",
    "# Extract weights, second numbers, and third numbers\n",
    "weights = np.array([t[0] for t in protein_averages], dtype=np.float64)\n",
    "am_numbers = np.array([t[1] for t in protein_averages], dtype=np.float64)\n",
    "esm_numbers = np.array([t[2] for t in protein_averages], dtype=np.float64)\n",
    "\n",
    "# Compute weighted means\n",
    "weighted_mean_am = np.sum(weights * am_numbers) / np.sum(weights)\n",
    "weighted_mean_esm = np.sum(weights * esm_numbers) / np.sum(weights)\n",
    "\n",
    "# Print results\n",
    "print(f\"Weighted mean (AM): {weighted_mean_am}\")\n",
    "print(f\"Weighted mean (ESM)): {weighted_mean_esm}\")\n",
    "\n",
    "print(f\"Number of failed protein statistics files: {count_fails}\")\n"
   ]
  },
  {
   "cell_type": "code",
   "execution_count": 64,
   "metadata": {},
   "outputs": [],
   "source": [
    "# Ensure the directory exists\n",
    "output_path = PROCESSED_DIR / \"1.1.Experiment_TMD_JMD\" / \"1.1.TMD_JMD_Cleavage_Site_Experiment.csv\"\n",
    "output_path.parent.mkdir(parents=True, exist_ok=True)\n",
    "\n",
    "# Save the file\n",
    "store_data.to_csv(output_path, index=False)"
   ]
  },
  {
   "cell_type": "markdown",
   "metadata": {},
   "source": [
    "### Plotting\n"
   ]
  },
  {
   "cell_type": "code",
   "execution_count": 298,
   "metadata": {},
   "outputs": [],
   "source": [
    "def plot_model_boxplot(data, y_column, model, save=False, title=True):\n",
    "    assert model in [\"ESM\", \"AlphaMissense\"], \"Model must be 'ESM' or 'AlphaMissense'\"\n",
    "    model_key = \"ESM\" if model == \"ESM\" else \"AM\"\n",
    "    base_color = COLORS_MODELS[model_key]\n",
    "    \n",
    "\n",
    "    # Generate 4 monochromatic shades from base color\n",
    "    base_rgb = mcolors.to_rgb(base_color)\n",
    "    monochrome_colors = [mcolors.to_hex([base_rgb[0]*(1-0.2*i), base_rgb[1]*(1-0.2*i), base_rgb[2]*(1-0.2*i)]) for i in range(4)]\n",
    "\n",
    "    # Ensure pred_class is ordered correctly\n",
    "    category_order = [\"HC substrate\", \"LC substrate\", \"LC non-substrate\", \"HC non-substrate\"]\n",
    "    data['pred_class'] = pd.Categorical(data['pred_class'], categories=category_order, ordered=True)\n",
    "\n",
    "    plt.figure(figsize=(8,6))\n",
    "    sns.set_style(\"whitegrid\")\n",
    "    \n",
    "    ax = sns.boxplot(\n",
    "        x=\"pred_class\", \n",
    "        y=y_column, \n",
    "        data=data,\n",
    "        palette=monochrome_colors,\n",
    "        showfliers=False,\n",
    "        width=0.6\n",
    "    )\n",
    "\n",
    "    # Overlay the mean as a black diamond marker\n",
    "    means = data.groupby('pred_class')[y_column].mean().reindex(category_order)\n",
    "    sns.scatterplot(\n",
    "        x=category_order,\n",
    "        y=means.values,\n",
    "        color='white',\n",
    "        marker='D',\n",
    "        s=80,\n",
    "        zorder=5,\n",
    "        ax=ax\n",
    "    )\n",
    "\n",
    "    # Add numeric labels above mean diamonds\n",
    "    for i, mean_val in enumerate(means):\n",
    "        ax.text(\n",
    "            i -0.075,  # slight horizontal offset to the right of diamond\n",
    "            mean_val,  # slight vertical offset above diamond\n",
    "            f'{mean_val:.3f}',\n",
    "            ha='right',\n",
    "            va='center',\n",
    "            fontsize=11,\n",
    "            color='white',\n",
    "            fontweight='bold'\n",
    "        )\n",
    "\n",
    "    # Add data counts below boxplots\n",
    "    group_counts = data.groupby('pred_class')[y_column].count().reindex(category_order)\n",
    "    for i, count in enumerate(group_counts):\n",
    "        ax.text(\n",
    "            i, 0 if model == \"ESM\" else 0.075,  # Adjusted position for ESM and AlphaMissense\n",
    "            f'n={count}',\n",
    "            ha='center',\n",
    "            va='bottom',\n",
    "            fontsize=10,\n",
    "            color='black',\n",
    "            alpha=0.8,\n",
    "        )\n",
    "\n",
    "    \n",
    "    # Plot the overall mean as a horizontal line with label for legend\n",
    "    ax.axhline(\n",
    "        y=0.4765 if model == \"AlphaMissense\" else 0.505,  # Adjusted for AlphaMissense\n",
    "        color='#d5c7f7',\n",
    "        linestyle='--', \n",
    "        linewidth=2,\n",
    "        alpha=0.7,\n",
    "        zorder=3,\n",
    "        label=f'Pathogenicity Mean of N-out Proteome = {0.4765 if model == \"AlphaMissense\" else 0.505:.3f} ({\"AM\" if model == \"AlphaMissense\" else \"ESM\"})'\n",
    "    )\n",
    "\n",
    "\n",
    "    # Perform Mann-Whitney U Test between \"HC Substrate\" and \"HC Non-Substrate\"\n",
    "    group1 = data[data['pred_class'] == 'HC substrate'][y_column]\n",
    "    group2 = data[data['pred_class'] == 'HC non-substrate'][y_column]\n",
    "\n",
    "    # Perform the test (two-sided)\n",
    "    _, p_value = mannwhitneyu(group1, group2, alternative='two-sided')\n",
    "    if p_value < 0.05:\n",
    "        # Find the x positions of the boxes (based on your category order)\n",
    "        x1 = category_order.index('HC substrate')\n",
    "        x2 = category_order.index('HC non-substrate')\n",
    "\n",
    "        # Determine y-position for annotation line (a bit above the max y of both groups)\n",
    "        y_max1 = group1.max()\n",
    "        y_max2 = group2.max()\n",
    "        y, h, col = max(y_max1, y_max2) + 0.05, 0.02, 'red'  # h is the line height offset\n",
    "\n",
    "        # Plot the connecting line\n",
    "        ax.plot([x1, x1, x2, x2], [y, y+h, y+h, y], lw=1.5, color=col)\n",
    "\n",
    "        # Annotate the p-value above the line\n",
    "        ax.text(\n",
    "            (x1 + x2) / 2, \n",
    "            y + h + 0.01,  # a bit above the line\n",
    "            f'p = {p_value:.3e}', \n",
    "            ha='center', \n",
    "            va='bottom',\n",
    "            color=col,\n",
    "            fontsize=12,\n",
    "            fontweight='bold'\n",
    "        )\n",
    "\n",
    "    # Aesthetics\n",
    "    ax.set_xlabel(\"Prediction Class\", fontsize=12, fontweight='bold')\n",
    "    ax.set_ylabel(\"Average Rank Pathogenicity Score\", fontsize=12, fontweight='bold')\n",
    "\n",
    "    if y_column == \"AM_TMD_JMD_mean\" or y_column == \"ESM_TMD_JMD_mean\":\n",
    "        title_name = \"TMD + JMD-N/C Region (~40AA)\"\n",
    "    elif y_column == \"AM_cleavage_11AA_mean\" or y_column == \"ESM_cleavage_11AA_mean\":\n",
    "        title_name = \"Cleavage Site Region (11AA)\"\n",
    "\n",
    "   \n",
    "    if title:\n",
    "        ax.set_title(f\"{title_name} ({model})\", fontsize=14, pad=15) \n",
    "        \n",
    "    plt.xticks(fontsize=10, fontweight='bold')\n",
    "    plt.yticks(fontsize=10)\n",
    "    # Place the legend to show the global mean\n",
    "    ax.legend(loc='upper center', bbox_to_anchor=(0.5, -0.1), frameon=False, fontsize=12)\n",
    "    sns.despine()\n",
    "    plt.tight_layout()\n",
    "\n",
    "\n",
    "    # Save plot\n",
    "    if save:\n",
    "        images_path = IMAGES_DIR / \"1.1.Boxplots\"\n",
    "        images_path.mkdir(parents=True, exist_ok=True)\n",
    "        output_path = images_path / f\"1.1.{y_column}{\"_NoTitle\" if not title else \"\"}.png\" \n",
    "        plt.savefig(output_path, dpi=300, bbox_inches='tight')\n",
    "        print(f\"Plot saved to {output_path}\")\n",
    "\n",
    "    plt.show()\n",
    "    print(p_value)"
   ]
  },
  {
   "cell_type": "code",
   "execution_count": 303,
   "metadata": {},
   "outputs": [
    {
     "name": "stderr",
     "output_type": "stream",
     "text": [
      "/var/folders/kw/jxgfh6fx7_v_5_3hk6sqf3nw0000gn/T/ipykernel_80565/2379213472.py:18: FutureWarning: \n",
      "\n",
      "Passing `palette` without assigning `hue` is deprecated and will be removed in v0.14.0. Assign the `x` variable to `hue` and set `legend=False` for the same effect.\n",
      "\n",
      "  ax = sns.boxplot(\n",
      "/var/folders/kw/jxgfh6fx7_v_5_3hk6sqf3nw0000gn/T/ipykernel_80565/2379213472.py:28: FutureWarning: The default of observed=False is deprecated and will be changed to True in a future version of pandas. Pass observed=False to retain current behavior or observed=True to adopt the future default and silence this warning.\n",
      "  means = data.groupby('pred_class')[y_column].mean().reindex(category_order)\n",
      "/var/folders/kw/jxgfh6fx7_v_5_3hk6sqf3nw0000gn/T/ipykernel_80565/2379213472.py:53: FutureWarning: The default of observed=False is deprecated and will be changed to True in a future version of pandas. Pass observed=False to retain current behavior or observed=True to adopt the future default and silence this warning.\n",
      "  group_counts = data.groupby('pred_class')[y_column].count().reindex(category_order)\n"
     ]
    },
    {
     "name": "stdout",
     "output_type": "stream",
     "text": [
      "Plot saved to /Users/doma/Documents/Bachelor_Arbeit/Code/results/images/1.1.Boxplots/1.1.ESM_TMD_JMD_mean_NoTitle.png\n"
     ]
    },
    {
     "data": {
      "image/png": "[encoded data removed]",
      "text/plain": [
       "<Figure size 800x600 with 1 Axes>"
      ]
     },
     "metadata": {},
     "output_type": "display_data"
    },
    {
     "name": "stdout",
     "output_type": "stream",
     "text": [
      "1.4304622389777605e-05\n"
     ]
    }
   ],
   "source": [
    "data_to_plot = store_data.copy()\n",
    "# Remove rows with NaN values\n",
    "data_to_plot = data_to_plot.dropna(subset=[\"ESM_cleavage_11AA_mean\", \"ESM_TMD_JMD_mean\"])\n",
    "\n",
    "\n",
    "plot_model_boxplot(data_to_plot.copy(), y_column=\"ESM_TMD_JMD_mean\", model=\"ESM\", save=True, title=False)"
   ]
  },
  {
   "cell_type": "code",
   "execution_count": null,
   "metadata": {},
   "outputs": [],
   "source": []
  },
  {
   "cell_type": "code",
   "execution_count": 310,
   "metadata": {},
   "outputs": [
    {
     "name": "stdout",
     "output_type": "stream",
     "text": [
      "Mann-Whitney U Test between HC Substrate TMD+JMD 40AA and Cleavage Site 11AA: p-value = 6.20192e-02\n"
     ]
    }
   ],
   "source": [
    "# Perform Mann-Whitney between HC-Substrates in TMD+JMD 40AA compared to  Cleavage Site 11AA\n",
    "data_to_plot = store_data.copy()\n",
    "data_to_plot = data_to_plot.dropna(subset=[\"ESM_cleavage_11AA_mean\", \"ESM_TMD_JMD_mean\"])\n",
    "\n",
    "# Perform Mann-Whitney U Test between \"HC Substrate\" and \"HC Non-Substrate\"\n",
    "group1 = data_to_plot[data_to_plot['pred_class'] == 'HC substrate'][\"ESM_TMD_JMD_mean\"]\n",
    "group2 = data_to_plot[data_to_plot['pred_class'] == 'HC substrate'][\"ESM_cleavage_11AA_mean\"]\n",
    "\n",
    "# Perform the test (two-sided)\n",
    "_, p_value = mannwhitneyu(group1, group2, alternative='two-sided')\n",
    "\n",
    "print(f\"Mann-Whitney U Test between HC Substrate TMD+JMD 40AA and Cleavage Site 11AA: p-value = {p_value:.5e}\")"
   ]
  },
  {
   "cell_type": "code",
   "execution_count": 308,
   "metadata": {},
   "outputs": [
    {
     "name": "stdout",
     "output_type": "stream",
     "text": [
      "0      0.654827\n",
      "1      0.830500\n",
      "2      0.724118\n",
      "3      0.487027\n",
      "4      0.697600\n",
      "         ...   \n",
      "245    0.395536\n",
      "246    0.322000\n",
      "247    0.658073\n",
      "248    0.446091\n",
      "249    0.658464\n",
      "Name: ESM_cleavage_11AA_mean, Length: 246, dtype: float64\n"
     ]
    }
   ],
   "source": [
    "print(group2)"
   ]
  },
  {
   "cell_type": "code",
   "execution_count": null,
   "metadata": {},
   "outputs": [],
   "source": []
  }
 ],
 "metadata": {
  "kernelspec": {
   "display_name": ".venv",
   "language": "python",
   "name": "python3"
  },
  "language_info": {
   "codemirror_mode": {
    "name": "ipython",
    "version": 3
   },
   "file_extension": ".py",
   "mimetype": "text/x-python",
   "name": "python",
   "nbconvert_exporter": "python",
   "pygments_lexer": "ipython3",
   "version": "3.12.7"
  }
 },
 "nbformat": 4,
 "nbformat_minor": 2
}
