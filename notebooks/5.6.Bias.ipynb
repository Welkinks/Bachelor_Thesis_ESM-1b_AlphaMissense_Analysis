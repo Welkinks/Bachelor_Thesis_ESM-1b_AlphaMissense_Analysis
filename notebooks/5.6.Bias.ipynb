{
 "cells": [
  {
   "cell_type": "markdown",
   "metadata": {},
   "source": [
    "# Bias of Pathogenicity Scores Towards Specific Amino Acids and SASA"
   ]
  },
  {
   "cell_type": "markdown",
   "metadata": {},
   "source": [
    "### Important: SASA - paper identified that pathogenicity scores are higher in buried aminoacids than in surface accessible a.a."
   ]
  },
  {
   "cell_type": "code",
   "execution_count": null,
   "metadata": {},
   "outputs": [],
   "source": [
    "# Compute the average pathogenicity scores in both models for each amino acid type\n",
    "     # 1. for N-out Proteome\n",
    "     # 2. for Multispan proteome\n",
    "     # 3. for Human proteome\n",
    "     # 2.1,2,3 for their differences - In what amino acid types do the models differ?\n",
    "\n",
    "# Look at hydrophobic amino acids \n",
    "     # N-out Proteome\n",
    "     # Multispan proteome\n",
    "     # Human proteome\n"
   ]
  }
 ],
 "metadata": {
  "kernelspec": {
   "display_name": ".venv",
   "language": "python",
   "name": "python3"
  },
  "language_info": {
   "name": "python",
   "version": "3.12.7"
  }
 },
 "nbformat": 4,
 "nbformat_minor": 2
}
