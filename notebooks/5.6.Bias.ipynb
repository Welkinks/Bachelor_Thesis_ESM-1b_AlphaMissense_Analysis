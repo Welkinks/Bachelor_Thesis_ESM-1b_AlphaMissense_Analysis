{
 "cells": [
  {
   "cell_type": "markdown",
   "metadata": {},
   "source": [
    "# Bias of Pathogenicity Scores Towards Specific Amino Acids and SASA"
   ]
  },
  {
   "cell_type": "markdown",
   "metadata": {},
   "source": [
    "### Important: SASA - paper identified that pathogenicity scores are higher in buried aminoacids than in surface accessible a.a."
   ]
  },
  {
   "cell_type": "code",
   "execution_count": null,
   "metadata": {},
   "outputs": [],
   "source": [
    "# Compute the average pathogenicity scores in both models for each amino acid type\n",
    "     # 1. for N-out Proteome\n",
    "     # 2. for Multispan proteome\n",
    "     # 3. for Human proteome\n",
    "     # 2.1,2,3 for their differences - In what amino acid types do the models differ?\n",
    "\n",
    "# Look at hydrophobic amino acids \n",
    "     # N-out Proteome\n",
    "     # Multispan proteome\n",
    "     # Human proteome\n",
    "\n",
    "# plot a 20x20 Heatmap with average rank scores per mutation, and then average score per amino acid reference type"
   ]
  },
  {
   "cell_type": "code",
   "execution_count": 1,
   "metadata": {},
   "outputs": [],
   "source": [
    "# --- Project Setup ---\n",
    "from setup_notebook import setup_project_root\n",
    "setup_project_root()\n",
    "\n",
    "from src.project_config import get_paths, get_paths_protein, get_aa_list\n",
    "import pandas as pd\n",
    "import os\n",
    "from tqdm.notebook import tqdm\n",
    "import numpy as np\n",
    "from os import mkdir"
   ]
  },
  {
   "cell_type": "code",
   "execution_count": 6,
   "metadata": {},
   "outputs": [
    {
     "data": {
      "application/vnd.jupyter.widget-view+json": {
       "model_id": "238c0855596b40698b4502e189cd8511",
       "version_major": 2,
       "version_minor": 0
      },
      "text/plain": [
       "Outer loop over variant AAs:   0%|          | 0/20 [00:00<?, ?it/s]"
      ]
     },
     "metadata": {},
     "output_type": "display_data"
    },
    {
     "data": {
      "application/vnd.jupyter.widget-view+json": {
       "model_id": "fe40ff857eb04ff7b6a343c42f0ccc94",
       "version_major": 2,
       "version_minor": 0
      },
      "text/plain": [
       "Inner loop over proteins. Variant: A:   0%|          | 0/2822 [00:00<?, ?it/s]"
      ]
     },
     "metadata": {},
     "output_type": "display_data"
    },
    {
     "data": {
      "application/vnd.jupyter.widget-view+json": {
       "model_id": "2c418e4761964e2f86c8f3c4fc42589d",
       "version_major": 2,
       "version_minor": 0
      },
      "text/plain": [
       "Inner loop over proteins. Variant: V:   0%|          | 0/2822 [00:00<?, ?it/s]"
      ]
     },
     "metadata": {},
     "output_type": "display_data"
    },
    {
     "data": {
      "application/vnd.jupyter.widget-view+json": {
       "model_id": "d9ba9fe75f35431e9233cd71482fdf00",
       "version_major": 2,
       "version_minor": 0
      },
      "text/plain": [
       "Inner loop over proteins. Variant: L:   0%|          | 0/2822 [00:00<?, ?it/s]"
      ]
     },
     "metadata": {},
     "output_type": "display_data"
    },
    {
     "data": {
      "application/vnd.jupyter.widget-view+json": {
       "model_id": "70040f321a884366b2bd1f490f4fb49e",
       "version_major": 2,
       "version_minor": 0
      },
      "text/plain": [
       "Inner loop over proteins. Variant: I:   0%|          | 0/2822 [00:00<?, ?it/s]"
      ]
     },
     "metadata": {},
     "output_type": "display_data"
    },
    {
     "data": {
      "application/vnd.jupyter.widget-view+json": {
       "model_id": "9ad6442ba0cd49d08f55aefbe1af659b",
       "version_major": 2,
       "version_minor": 0
      },
      "text/plain": [
       "Inner loop over proteins. Variant: M:   0%|          | 0/2822 [00:00<?, ?it/s]"
      ]
     },
     "metadata": {},
     "output_type": "display_data"
    },
    {
     "data": {
      "application/vnd.jupyter.widget-view+json": {
       "model_id": "9859222c77e04399a4e5f34eb59da5e0",
       "version_major": 2,
       "version_minor": 0
      },
      "text/plain": [
       "Inner loop over proteins. Variant: F:   0%|          | 0/2822 [00:00<?, ?it/s]"
      ]
     },
     "metadata": {},
     "output_type": "display_data"
    },
    {
     "data": {
      "application/vnd.jupyter.widget-view+json": {
       "model_id": "98cf8d77ec6e47c384a5ecec39cc918f",
       "version_major": 2,
       "version_minor": 0
      },
      "text/plain": [
       "Inner loop over proteins. Variant: W:   0%|          | 0/2822 [00:00<?, ?it/s]"
      ]
     },
     "metadata": {},
     "output_type": "display_data"
    },
    {
     "data": {
      "application/vnd.jupyter.widget-view+json": {
       "model_id": "aa8684a7db6040c0b4d961b1f15949d1",
       "version_major": 2,
       "version_minor": 0
      },
      "text/plain": [
       "Inner loop over proteins. Variant: S:   0%|          | 0/2822 [00:00<?, ?it/s]"
      ]
     },
     "metadata": {},
     "output_type": "display_data"
    },
    {
     "data": {
      "application/vnd.jupyter.widget-view+json": {
       "model_id": "5938f31eb56b4977ac3f866f1e9f8c0f",
       "version_major": 2,
       "version_minor": 0
      },
      "text/plain": [
       "Inner loop over proteins. Variant: T:   0%|          | 0/2822 [00:00<?, ?it/s]"
      ]
     },
     "metadata": {},
     "output_type": "display_data"
    },
    {
     "data": {
      "application/vnd.jupyter.widget-view+json": {
       "model_id": "5c9fb2beeb704932849005699c79e801",
       "version_major": 2,
       "version_minor": 0
      },
      "text/plain": [
       "Inner loop over proteins. Variant: N:   0%|          | 0/2822 [00:00<?, ?it/s]"
      ]
     },
     "metadata": {},
     "output_type": "display_data"
    },
    {
     "data": {
      "application/vnd.jupyter.widget-view+json": {
       "model_id": "d798093ccec24af69cb3c07516c2fda1",
       "version_major": 2,
       "version_minor": 0
      },
      "text/plain": [
       "Inner loop over proteins. Variant: Q:   0%|          | 0/2822 [00:00<?, ?it/s]"
      ]
     },
     "metadata": {},
     "output_type": "display_data"
    },
    {
     "data": {
      "application/vnd.jupyter.widget-view+json": {
       "model_id": "263244e55f6e4e7cafca23b9da9434fb",
       "version_major": 2,
       "version_minor": 0
      },
      "text/plain": [
       "Inner loop over proteins. Variant: Y:   0%|          | 0/2822 [00:00<?, ?it/s]"
      ]
     },
     "metadata": {},
     "output_type": "display_data"
    },
    {
     "data": {
      "application/vnd.jupyter.widget-view+json": {
       "model_id": "e7267d64032b48ffaedd53ea36f799e9",
       "version_major": 2,
       "version_minor": 0
      },
      "text/plain": [
       "Inner loop over proteins. Variant: C:   0%|          | 0/2822 [00:00<?, ?it/s]"
      ]
     },
     "metadata": {},
     "output_type": "display_data"
    },
    {
     "data": {
      "application/vnd.jupyter.widget-view+json": {
       "model_id": "83b97cf4b4894dda9a52aceba37fde51",
       "version_major": 2,
       "version_minor": 0
      },
      "text/plain": [
       "Inner loop over proteins. Variant: K:   0%|          | 0/2822 [00:00<?, ?it/s]"
      ]
     },
     "metadata": {},
     "output_type": "display_data"
    },
    {
     "data": {
      "application/vnd.jupyter.widget-view+json": {
       "model_id": "9d0bdee4932449aea4c1f4071dcfc8a4",
       "version_major": 2,
       "version_minor": 0
      },
      "text/plain": [
       "Inner loop over proteins. Variant: R:   0%|          | 0/2822 [00:00<?, ?it/s]"
      ]
     },
     "metadata": {},
     "output_type": "display_data"
    },
    {
     "data": {
      "application/vnd.jupyter.widget-view+json": {
       "model_id": "8f34bbbd428a409294f67f153d950194",
       "version_major": 2,
       "version_minor": 0
      },
      "text/plain": [
       "Inner loop over proteins. Variant: H:   0%|          | 0/2822 [00:00<?, ?it/s]"
      ]
     },
     "metadata": {},
     "output_type": "display_data"
    },
    {
     "data": {
      "application/vnd.jupyter.widget-view+json": {
       "model_id": "2c1187bd3b1c415dbef0d49b3cdc591d",
       "version_major": 2,
       "version_minor": 0
      },
      "text/plain": [
       "Inner loop over proteins. Variant: D:   0%|          | 0/2822 [00:00<?, ?it/s]"
      ]
     },
     "metadata": {},
     "output_type": "display_data"
    },
    {
     "data": {
      "application/vnd.jupyter.widget-view+json": {
       "model_id": "aaf03a691ee2463ba34488f4cef2bb35",
       "version_major": 2,
       "version_minor": 0
      },
      "text/plain": [
       "Inner loop over proteins. Variant: E:   0%|          | 0/2822 [00:00<?, ?it/s]"
      ]
     },
     "metadata": {},
     "output_type": "display_data"
    },
    {
     "data": {
      "application/vnd.jupyter.widget-view+json": {
       "model_id": "b13881f6cd014c9e804201d0f0de4673",
       "version_major": 2,
       "version_minor": 0
      },
      "text/plain": [
       "Inner loop over proteins. Variant: G:   0%|          | 0/2822 [00:00<?, ?it/s]"
      ]
     },
     "metadata": {},
     "output_type": "display_data"
    },
    {
     "data": {
      "application/vnd.jupyter.widget-view+json": {
       "model_id": "26c232ee1c984e5baa67877bcf46c624",
       "version_major": 2,
       "version_minor": 0
      },
      "text/plain": [
       "Inner loop over proteins. Variant: P:   0%|          | 0/2822 [00:00<?, ?it/s]"
      ]
     },
     "metadata": {},
     "output_type": "display_data"
    },
    {
     "name": "stdout",
     "output_type": "stream",
     "text": [
      "Saved ESM and AM 20x20 matrices.\n"
     ]
    }
   ],
   "source": [
    "# Human Proteome\n",
    "# 1. Iterate over every file in both folders\n",
    "# 2. For each file, read all the rank scores of each amino acid variant type (row)\n",
    "# 3. iterate over each amino acid type 20x \n",
    "# 4. Compute the average rank score for each amino acid type\n",
    "\n",
    "\n",
    "# intersection proteins for ESM and AM\n",
    "# protein_ids = pd.read_csv(get_paths()[\"protein_ids_intersection\"])   all human proteome\n",
    "#protein_ids = pd.read_csv(get_paths()[\"processed\"] / \"N_out_proteome_cleaned.csv\") # # N-out Proteome\n",
    "protein_ids = pd.read_csv(get_paths()[\"processed\"] / \"Multispan_proteome_cleaned.csv\")  # Multispan Proteome\n",
    "\n",
    "aa_list = get_aa_list()\n",
    "\n",
    "# Task 1: Store global averages per variant type\n",
    "variant_global_avg = {}\n",
    "\n",
    "\n",
    "# Initialize matrix with zeros; we'll fill it row-by-row\n",
    "# Initialize final 20x20 matrices\n",
    "esm_matrix = pd.DataFrame(0.0, index=aa_list, columns=aa_list)\n",
    "am_matrix = pd.DataFrame(0.0, index=aa_list, columns=aa_list)\n",
    "\n",
    "\n",
    "# Loop over each variant amino acid \n",
    "for variant in tqdm(aa_list, desc=\"Outer loop over variant AAs\"):\n",
    "\n",
    "    # Collect all raw scores for this variant (task 1)\n",
    "    esm_all_variant_scores = []\n",
    "    am_all_variant_scores = []\n",
    "\n",
    "    # Task 2: collect per-reference scores\n",
    "    esm_ref_scores_by_aa = {ref_aa: [] for ref_aa in aa_list}\n",
    "    am_ref_scores_by_aa = {ref_aa: [] for ref_aa in aa_list}\n",
    "\n",
    "    # Iterate over each protein in the intersection and collect all scores for one variant type (rows)\n",
    "    for protein in tqdm(protein_ids[\"Entry\"], desc=f\"Inner loop over proteins. Variant: {variant}\", leave=False):\n",
    "\n",
    "        # Load data\n",
    "        esm_file = pd.read_csv(get_paths_protein(protein)[\"esm_path\"], index_col=0)\n",
    "        am_file = pd.read_csv(get_paths_protein(protein)[\"am_path\"], index_col=0)\n",
    "        \n",
    "        # Extract the row for the variant\n",
    "        esm_variant_row = esm_file.loc[variant]\n",
    "        am_variant_row = am_file.loc[variant]\n",
    "\n",
    "        # Flatten and clean scores\n",
    "        esm_values = esm_variant_row.dropna().values\n",
    "        am_values = am_variant_row.dropna().values\n",
    "        esm_all_variant_scores.extend(esm_values)\n",
    "        am_all_variant_scores.extend(am_values)\n",
    "\n",
    "        # Iterate over each position (column) to extract the reference AA\n",
    "        for col in esm_variant_row.index:\n",
    "            if pd.isna(esm_variant_row[col]):\n",
    "                continue\n",
    "            try:\n",
    "                ref_aa = col.split()[0]  # e.g., \"M 1\" -> \"M\"\n",
    "                if ref_aa in aa_list:\n",
    "                    esm_ref_scores_by_aa[ref_aa].append(esm_variant_row[col])\n",
    "            except Exception:\n",
    "                continue\n",
    "\n",
    "        for col in am_variant_row.index:\n",
    "            if pd.isna(am_variant_row[col]):\n",
    "                continue\n",
    "            try:\n",
    "                ref_aa = col.split()[0]\n",
    "                if ref_aa in aa_list:\n",
    "                    am_ref_scores_by_aa[ref_aa].append(am_variant_row[col])\n",
    "            except Exception:\n",
    "                continue\n",
    "\n",
    "    # Compute average variant score and fill diagonal with 0\n",
    "    esm_avg_scores = {\n",
    "        ref: np.mean(scores) if ref != variant and scores else 0.0\n",
    "        for ref, scores in esm_ref_scores_by_aa.items()\n",
    "    }\n",
    "\n",
    "    am_avg_scores = {\n",
    "        ref: np.mean(scores) if ref != variant and scores else 0.0\n",
    "        for ref, scores in am_ref_scores_by_aa.items()\n",
    "    }\n",
    "\n",
    "    # Fill matrices\n",
    "    for ref_aa in aa_list:\n",
    "        esm_matrix.loc[variant, ref_aa] = esm_avg_scores.get(ref_aa, 0.0)\n",
    "        am_matrix.loc[variant, ref_aa] = am_avg_scores.get(ref_aa, 0.0)\n",
    "\n",
    "# Optional: Save the matrices\n",
    "#os.mkdir(get_paths()[\"processed\"] / \"5.6.Bias\", exist_ok=True)\n",
    "esm_matrix.to_csv(get_paths()[\"processed\"] / \"5.6.Bias\" / \"esm_20x20_matrix_multispan.csv\")\n",
    "am_matrix.to_csv(get_paths()[\"processed\"] / \"5.6.Bias\" / \"am_20x20_matrix_multispan.csv\")\n",
    "print(\"Saved ESM and AM 20x20 matrices.\")"
   ]
  },
  {
   "cell_type": "code",
   "execution_count": null,
   "metadata": {},
   "outputs": [],
   "source": []
  }
 ],
 "metadata": {
  "kernelspec": {
   "display_name": ".venv",
   "language": "python",
   "name": "python3"
  },
  "language_info": {
   "codemirror_mode": {
    "name": "ipython",
    "version": 3
   },
   "file_extension": ".py",
   "mimetype": "text/x-python",
   "name": "python",
   "nbconvert_exporter": "python",
   "pygments_lexer": "ipython3",
   "version": "3.12.7"
  }
 },
 "nbformat": 4,
 "nbformat_minor": 2
}
