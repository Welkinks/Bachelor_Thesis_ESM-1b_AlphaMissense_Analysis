{
 "cells": [
  {
   "cell_type": "code",
   "execution_count": 1,
   "metadata": {},
   "outputs": [
    {
     "name": "stdout",
     "output_type": "stream",
     "text": [
      "Requirement already satisfied: transformers in /Users/doma/Documents/Bachelor_Arbeit/Code/.venv/lib/python3.12/site-packages (4.52.3)\n",
      "Requirement already satisfied: torch in /Users/doma/Documents/Bachelor_Arbeit/Code/.venv/lib/python3.12/site-packages (2.7.0)\n",
      "Requirement already satisfied: matplotlib in /Users/doma/Documents/Bachelor_Arbeit/Code/.venv/lib/python3.12/site-packages (3.10.3)\n",
      "Requirement already satisfied: numpy in /Users/doma/Documents/Bachelor_Arbeit/Code/.venv/lib/python3.12/site-packages (2.2.6)\n",
      "Requirement already satisfied: ipywidgets in /Users/doma/Documents/Bachelor_Arbeit/Code/.venv/lib/python3.12/site-packages (8.1.7)\n",
      "Requirement already satisfied: filelock in /Users/doma/Documents/Bachelor_Arbeit/Code/.venv/lib/python3.12/site-packages (from transformers) (3.18.0)\n",
      "Requirement already satisfied: huggingface-hub<1.0,>=0.30.0 in /Users/doma/Documents/Bachelor_Arbeit/Code/.venv/lib/python3.12/site-packages (from transformers) (0.32.0)\n",
      "Requirement already satisfied: packaging>=20.0 in /Users/doma/Documents/Bachelor_Arbeit/Code/.venv/lib/python3.12/site-packages (from transformers) (25.0)\n",
      "Requirement already satisfied: pyyaml>=5.1 in /Users/doma/Documents/Bachelor_Arbeit/Code/.venv/lib/python3.12/site-packages (from transformers) (6.0.2)\n",
      "Requirement already satisfied: regex!=2019.12.17 in /Users/doma/Documents/Bachelor_Arbeit/Code/.venv/lib/python3.12/site-packages (from transformers) (2024.11.6)\n",
      "Requirement already satisfied: requests in /Users/doma/Documents/Bachelor_Arbeit/Code/.venv/lib/python3.12/site-packages (from transformers) (2.32.3)\n",
      "Requirement already satisfied: tokenizers<0.22,>=0.21 in /Users/doma/Documents/Bachelor_Arbeit/Code/.venv/lib/python3.12/site-packages (from transformers) (0.21.1)\n",
      "Requirement already satisfied: safetensors>=0.4.3 in /Users/doma/Documents/Bachelor_Arbeit/Code/.venv/lib/python3.12/site-packages (from transformers) (0.5.3)\n",
      "Requirement already satisfied: tqdm>=4.27 in /Users/doma/Documents/Bachelor_Arbeit/Code/.venv/lib/python3.12/site-packages (from transformers) (4.65.0)\n",
      "Requirement already satisfied: fsspec>=2023.5.0 in /Users/doma/Documents/Bachelor_Arbeit/Code/.venv/lib/python3.12/site-packages (from huggingface-hub<1.0,>=0.30.0->transformers) (2025.5.0)\n",
      "Requirement already satisfied: typing-extensions>=3.7.4.3 in /Users/doma/Documents/Bachelor_Arbeit/Code/.venv/lib/python3.12/site-packages (from huggingface-hub<1.0,>=0.30.0->transformers) (4.13.2)\n",
      "Requirement already satisfied: hf-xet<2.0.0,>=1.1.2 in /Users/doma/Documents/Bachelor_Arbeit/Code/.venv/lib/python3.12/site-packages (from huggingface-hub<1.0,>=0.30.0->transformers) (1.1.2)\n",
      "Requirement already satisfied: setuptools in /Users/doma/Documents/Bachelor_Arbeit/Code/.venv/lib/python3.12/site-packages (from torch) (80.7.1)\n",
      "Requirement already satisfied: sympy>=1.13.3 in /Users/doma/Documents/Bachelor_Arbeit/Code/.venv/lib/python3.12/site-packages (from torch) (1.14.0)\n",
      "Requirement already satisfied: networkx in /Users/doma/Documents/Bachelor_Arbeit/Code/.venv/lib/python3.12/site-packages (from torch) (3.4.2)\n",
      "Requirement already satisfied: jinja2 in /Users/doma/Documents/Bachelor_Arbeit/Code/.venv/lib/python3.12/site-packages (from torch) (3.1.6)\n",
      "Requirement already satisfied: contourpy>=1.0.1 in /Users/doma/Documents/Bachelor_Arbeit/Code/.venv/lib/python3.12/site-packages (from matplotlib) (1.3.2)\n",
      "Requirement already satisfied: cycler>=0.10 in /Users/doma/Documents/Bachelor_Arbeit/Code/.venv/lib/python3.12/site-packages (from matplotlib) (0.12.1)\n",
      "Requirement already satisfied: fonttools>=4.22.0 in /Users/doma/Documents/Bachelor_Arbeit/Code/.venv/lib/python3.12/site-packages (from matplotlib) (4.58.0)\n",
      "Requirement already satisfied: kiwisolver>=1.3.1 in /Users/doma/Documents/Bachelor_Arbeit/Code/.venv/lib/python3.12/site-packages (from matplotlib) (1.4.8)\n",
      "Requirement already satisfied: pillow>=8 in /Users/doma/Documents/Bachelor_Arbeit/Code/.venv/lib/python3.12/site-packages (from matplotlib) (11.2.1)\n",
      "Requirement already satisfied: pyparsing>=2.3.1 in /Users/doma/Documents/Bachelor_Arbeit/Code/.venv/lib/python3.12/site-packages (from matplotlib) (3.2.3)\n",
      "Requirement already satisfied: python-dateutil>=2.7 in /Users/doma/Documents/Bachelor_Arbeit/Code/.venv/lib/python3.12/site-packages (from matplotlib) (2.9.0.post0)\n",
      "Requirement already satisfied: comm>=0.1.3 in /Users/doma/Documents/Bachelor_Arbeit/Code/.venv/lib/python3.12/site-packages (from ipywidgets) (0.2.2)\n",
      "Requirement already satisfied: ipython>=6.1.0 in /Users/doma/Documents/Bachelor_Arbeit/Code/.venv/lib/python3.12/site-packages (from ipywidgets) (9.2.0)\n",
      "Requirement already satisfied: traitlets>=4.3.1 in /Users/doma/Documents/Bachelor_Arbeit/Code/.venv/lib/python3.12/site-packages (from ipywidgets) (5.14.3)\n",
      "Requirement already satisfied: widgetsnbextension~=4.0.14 in /Users/doma/Documents/Bachelor_Arbeit/Code/.venv/lib/python3.12/site-packages (from ipywidgets) (4.0.14)\n",
      "Requirement already satisfied: jupyterlab_widgets~=3.0.15 in /Users/doma/Documents/Bachelor_Arbeit/Code/.venv/lib/python3.12/site-packages (from ipywidgets) (3.0.15)\n",
      "Requirement already satisfied: decorator in /Users/doma/Documents/Bachelor_Arbeit/Code/.venv/lib/python3.12/site-packages (from ipython>=6.1.0->ipywidgets) (5.2.1)\n",
      "Requirement already satisfied: ipython-pygments-lexers in /Users/doma/Documents/Bachelor_Arbeit/Code/.venv/lib/python3.12/site-packages (from ipython>=6.1.0->ipywidgets) (1.1.1)\n",
      "Requirement already satisfied: jedi>=0.16 in /Users/doma/Documents/Bachelor_Arbeit/Code/.venv/lib/python3.12/site-packages (from ipython>=6.1.0->ipywidgets) (0.19.2)\n",
      "Requirement already satisfied: matplotlib-inline in /Users/doma/Documents/Bachelor_Arbeit/Code/.venv/lib/python3.12/site-packages (from ipython>=6.1.0->ipywidgets) (0.1.7)\n",
      "Requirement already satisfied: pexpect>4.3 in /Users/doma/Documents/Bachelor_Arbeit/Code/.venv/lib/python3.12/site-packages (from ipython>=6.1.0->ipywidgets) (4.9.0)\n",
      "Requirement already satisfied: prompt_toolkit<3.1.0,>=3.0.41 in /Users/doma/Documents/Bachelor_Arbeit/Code/.venv/lib/python3.12/site-packages (from ipython>=6.1.0->ipywidgets) (3.0.51)\n",
      "Requirement already satisfied: pygments>=2.4.0 in /Users/doma/Documents/Bachelor_Arbeit/Code/.venv/lib/python3.12/site-packages (from ipython>=6.1.0->ipywidgets) (2.19.1)\n",
      "Requirement already satisfied: stack_data in /Users/doma/Documents/Bachelor_Arbeit/Code/.venv/lib/python3.12/site-packages (from ipython>=6.1.0->ipywidgets) (0.6.3)\n",
      "Requirement already satisfied: wcwidth in /Users/doma/Documents/Bachelor_Arbeit/Code/.venv/lib/python3.12/site-packages (from prompt_toolkit<3.1.0,>=3.0.41->ipython>=6.1.0->ipywidgets) (0.2.13)\n",
      "Requirement already satisfied: parso<0.9.0,>=0.8.4 in /Users/doma/Documents/Bachelor_Arbeit/Code/.venv/lib/python3.12/site-packages (from jedi>=0.16->ipython>=6.1.0->ipywidgets) (0.8.4)\n",
      "Requirement already satisfied: ptyprocess>=0.5 in /Users/doma/Documents/Bachelor_Arbeit/Code/.venv/lib/python3.12/site-packages (from pexpect>4.3->ipython>=6.1.0->ipywidgets) (0.7.0)\n",
      "Requirement already satisfied: six>=1.5 in /Users/doma/Documents/Bachelor_Arbeit/Code/.venv/lib/python3.12/site-packages (from python-dateutil>=2.7->matplotlib) (1.17.0)\n",
      "Requirement already satisfied: mpmath<1.4,>=1.1.0 in /Users/doma/Documents/Bachelor_Arbeit/Code/.venv/lib/python3.12/site-packages (from sympy>=1.13.3->torch) (1.3.0)\n",
      "Requirement already satisfied: MarkupSafe>=2.0 in /Users/doma/Documents/Bachelor_Arbeit/Code/.venv/lib/python3.12/site-packages (from jinja2->torch) (3.0.2)\n",
      "Requirement already satisfied: charset-normalizer<4,>=2 in /Users/doma/Documents/Bachelor_Arbeit/Code/.venv/lib/python3.12/site-packages (from requests->transformers) (3.4.2)\n",
      "Requirement already satisfied: idna<4,>=2.5 in /Users/doma/Documents/Bachelor_Arbeit/Code/.venv/lib/python3.12/site-packages (from requests->transformers) (3.10)\n",
      "Requirement already satisfied: urllib3<3,>=1.21.1 in /Users/doma/Documents/Bachelor_Arbeit/Code/.venv/lib/python3.12/site-packages (from requests->transformers) (2.4.0)\n",
      "Requirement already satisfied: certifi>=2017.4.17 in /Users/doma/Documents/Bachelor_Arbeit/Code/.venv/lib/python3.12/site-packages (from requests->transformers) (2025.4.26)\n",
      "Requirement already satisfied: executing>=1.2.0 in /Users/doma/Documents/Bachelor_Arbeit/Code/.venv/lib/python3.12/site-packages (from stack_data->ipython>=6.1.0->ipywidgets) (2.2.0)\n",
      "Requirement already satisfied: asttokens>=2.1.0 in /Users/doma/Documents/Bachelor_Arbeit/Code/.venv/lib/python3.12/site-packages (from stack_data->ipython>=6.1.0->ipywidgets) (3.0.0)\n",
      "Requirement already satisfied: pure-eval in /Users/doma/Documents/Bachelor_Arbeit/Code/.venv/lib/python3.12/site-packages (from stack_data->ipython>=6.1.0->ipywidgets) (0.2.3)\n",
      "Note: you may need to restart the kernel to use updated packages.\n"
     ]
    }
   ],
   "source": [
    "# Install required dependencies\n",
    "%pip install transformers torch matplotlib numpy ipywidgets"
   ]
  },
  {
   "cell_type": "code",
   "execution_count": 2,
   "metadata": {},
   "outputs": [],
   "source": [
    "from transformers import AutoTokenizer, EsmForMaskedLM\n",
    "import torch\n",
    "import matplotlib.pyplot as plt\n",
    "import numpy as np\n",
    "import ipywidgets as widgets\n",
    "from IPython.display import display"
   ]
  },
  {
   "cell_type": "code",
   "execution_count": 3,
   "metadata": {},
   "outputs": [],
   "source": [
    "# to restart kernels\n",
    "%load_ext autoreload\n",
    "%autoreload 2"
   ]
  },
  {
   "cell_type": "code",
   "execution_count": 4,
   "metadata": {},
   "outputs": [],
   "source": [
    "\n",
    "\n",
    "def generate_heatmap(protein_sequence, start_pos=1, end_pos=None):\n",
    "    # Load the model and tokenizer\n",
    "    model_name = \"facebook/esm2_t6_8M_UR50D\"\n",
    "    tokenizer = AutoTokenizer.from_pretrained(model_name)\n",
    "    model = EsmForMaskedLM.from_pretrained(model_name)\n",
    "\n",
    "    # Tokenize the input sequence\n",
    "    input_ids = tokenizer.encode(protein_sequence, return_tensors=\"pt\")\n",
    "    sequence_length = input_ids.shape[1] - 2  # Excluding the special tokens\n",
    "\n",
    "    # Adjust end position if not specified\n",
    "    if end_pos is None:\n",
    "        end_pos = sequence_length\n",
    "\n",
    "    # List of amino acids\n",
    "    amino_acids = list(\"ACDEFGHIKLMNPQRSTVWY\")\n",
    "\n",
    "    # Initialize heatmap\n",
    "    heatmap = np.zeros((20, end_pos - start_pos + 1))\n",
    "\n",
    "    # Calculate LLRs for each position and amino acid\n",
    "    for position in range(start_pos, end_pos + 1):\n",
    "        # Mask the target position\n",
    "        masked_input_ids = input_ids.clone()\n",
    "        masked_input_ids[0, position] = tokenizer.mask_token_id\n",
    "        \n",
    "        # Get logits for the masked token\n",
    "        with torch.no_grad():\n",
    "            logits = model(masked_input_ids).logits\n",
    "            \n",
    "        # Calculate log probabilities\n",
    "        probabilities = torch.nn.functional.softmax(logits[0, position], dim=0)\n",
    "        log_probabilities = torch.log(probabilities)\n",
    "        \n",
    "        # Get the log probability of the wild-type residue\n",
    "        wt_residue = input_ids[0, position].item()\n",
    "        log_prob_wt = log_probabilities[wt_residue].item()\n",
    "        \n",
    "        # Calculate LLR for each variant\n",
    "        for i, amino_acid in enumerate(amino_acids):\n",
    "            log_prob_mt = log_probabilities[tokenizer.convert_tokens_to_ids(amino_acid)].item()\n",
    "            heatmap[i, position - start_pos] = log_prob_mt - log_prob_wt\n",
    "\n",
    "    # Visualize the heatmap\n",
    "    plt.figure(figsize=(15, 5))\n",
    "    plt.imshow(heatmap, cmap=\"viridis\", aspect=\"auto\")\n",
    "    plt.xticks(range(end_pos - start_pos + 1), list(protein_sequence[start_pos-1:end_pos]))\n",
    "    plt.yticks(range(20), amino_acids)\n",
    "    plt.xlabel(\"Position in Protein Sequence\")\n",
    "    plt.ylabel(\"Amino Acid Mutations\")\n",
    "    plt.title(\"Predicted Effects of Mutations on Protein Sequence (LLR)\")\n",
    "    plt.colorbar(label=\"Log Likelihood Ratio (LLR)\")\n",
    "    plt.show()\n",
    "\n",
    "def interactive_heatmap(protein_sequence):\n",
    "    # Define interactive widgets\n",
    "    start_slider = widgets.IntSlider(value=1, min=1, max=len(protein_sequence), step=1, description='Start:')\n",
    "    end_slider = widgets.IntSlider(value=len(protein_sequence), min=1, max=len(protein_sequence), step=1, description='End:')\n",
    "\n",
    "    ui = widgets.HBox([start_slider, end_slider])\n",
    "\n",
    "    def update_heatmap(start, end):\n",
    "        if start <= end:\n",
    "            generate_heatmap(protein_sequence, start, end)\n",
    "\n",
    "    out = widgets.interactive_output(update_heatmap, {'start': start_slider, 'end': end_slider})\n",
    "\n",
    "    # Display the interactive widgets\n",
    "    display(ui, out)\n"
   ]
  },
  {
   "cell_type": "code",
   "execution_count": 5,
   "metadata": {},
   "outputs": [
    {
     "data": {
      "application/vnd.jupyter.widget-view+json": {
       "model_id": "f468110d54d349e0ab00a9666c816a18",
       "version_major": 2,
       "version_minor": 0
      },
      "text/plain": [
       "HBox(children=(IntSlider(value=1, description='Start:', max=52, min=1), IntSlider(value=52, description='End:'…"
      ]
     },
     "metadata": {},
     "output_type": "display_data"
    },
    {
     "data": {
      "application/vnd.jupyter.widget-view+json": {
       "model_id": "8f46e152b45c4c84a50f065648dfa834",
       "version_major": 2,
       "version_minor": 0
      },
      "text/plain": [
       "Output()"
      ]
     },
     "metadata": {},
     "output_type": "display_data"
    }
   ],
   "source": [
    "# Example usage:\n",
    "protein_sequence = \"MAPLRKTYVLKLYVAGNTPNSVRALKTLNNILEKEFKGVYALKVIDVLKNPQLAEEDKILATPTLAKVLPPPVRRIIGDLSNREKVLIGLDLLYEEIGDQAEDDLGLE\"\n",
    "app = \"KLVFFAEDVGSNKGAIIGLMVGGVVIATVIVITLVMLKKKQYTSIHHGVVEV\"\n",
    "interactive_heatmap(app)"
   ]
  },
  {
   "cell_type": "code",
   "execution_count": null,
   "metadata": {},
   "outputs": [],
   "source": []
  }
 ],
 "metadata": {
  "kernelspec": {
   "display_name": ".venv",
   "language": "python",
   "name": "python3"
  },
  "language_info": {
   "codemirror_mode": {
    "name": "ipython",
    "version": 3
   },
   "file_extension": ".py",
   "mimetype": "text/x-python",
   "name": "python",
   "nbconvert_exporter": "python",
   "pygments_lexer": "ipython3",
   "version": "3.12.7"
  }
 },
 "nbformat": 4,
 "nbformat_minor": 2
}
